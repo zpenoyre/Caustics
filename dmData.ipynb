{
 "cells": [
  {
   "cell_type": "code",
   "execution_count": 36,
   "metadata": {
    "collapsed": false
   },
   "outputs": [
    {
     "data": {
      "text/html": [
       "\n",
       "    <div class=\"bk-root\">\n",
       "        <a href=\"http://bokeh.pydata.org\" target=\"_blank\" class=\"bk-logo bk-logo-small bk-logo-notebook\"></a>\n",
       "        <span id=\"ac3cf6f7-3e42-481c-b901-f1ed1c929558\">Loading BokehJS ...</span>\n",
       "    </div>"
      ]
     },
     "metadata": {},
     "output_type": "display_data"
    },
    {
     "data": {
      "application/javascript": [
       "\n",
       "(function(global) {\n",
       "  function now() {\n",
       "    return new Date();\n",
       "  }\n",
       "\n",
       "  var force = true;\n",
       "\n",
       "  if (typeof (window._bokeh_onload_callbacks) === \"undefined\" || force === true) {\n",
       "    window._bokeh_onload_callbacks = [];\n",
       "    window._bokeh_is_loading = undefined;\n",
       "  }\n",
       "\n",
       "\n",
       "  \n",
       "  if (typeof (window._bokeh_timeout) === \"undefined\" || force === true) {\n",
       "    window._bokeh_timeout = Date.now() + 5000;\n",
       "    window._bokeh_failed_load = false;\n",
       "  }\n",
       "\n",
       "  var NB_LOAD_WARNING = {'data': {'text/html':\n",
       "     \"<div style='background-color: #fdd'>\\n\"+\n",
       "     \"<p>\\n\"+\n",
       "     \"BokehJS does not appear to have successfully loaded. If loading BokehJS from CDN, this \\n\"+\n",
       "     \"may be due to a slow or bad network connection. Possible fixes:\\n\"+\n",
       "     \"</p>\\n\"+\n",
       "     \"<ul>\\n\"+\n",
       "     \"<li>re-rerun `output_notebook()` to attempt to load from CDN again, or</li>\\n\"+\n",
       "     \"<li>use INLINE resources instead, as so:</li>\\n\"+\n",
       "     \"</ul>\\n\"+\n",
       "     \"<code>\\n\"+\n",
       "     \"from bokeh.resources import INLINE\\n\"+\n",
       "     \"output_notebook(resources=INLINE)\\n\"+\n",
       "     \"</code>\\n\"+\n",
       "     \"</div>\"}};\n",
       "\n",
       "  function display_loaded() {\n",
       "    if (window.Bokeh !== undefined) {\n",
       "      document.getElementById(\"ac3cf6f7-3e42-481c-b901-f1ed1c929558\").textContent = \"BokehJS successfully loaded.\";\n",
       "    } else if (Date.now() < window._bokeh_timeout) {\n",
       "      setTimeout(display_loaded, 100)\n",
       "    }\n",
       "  }\n",
       "\n",
       "  function run_callbacks() {\n",
       "    window._bokeh_onload_callbacks.forEach(function(callback) { callback() });\n",
       "    delete window._bokeh_onload_callbacks\n",
       "    console.info(\"Bokeh: all callbacks have finished\");\n",
       "  }\n",
       "\n",
       "  function load_libs(js_urls, callback) {\n",
       "    window._bokeh_onload_callbacks.push(callback);\n",
       "    if (window._bokeh_is_loading > 0) {\n",
       "      console.log(\"Bokeh: BokehJS is being loaded, scheduling callback at\", now());\n",
       "      return null;\n",
       "    }\n",
       "    if (js_urls == null || js_urls.length === 0) {\n",
       "      run_callbacks();\n",
       "      return null;\n",
       "    }\n",
       "    console.log(\"Bokeh: BokehJS not loaded, scheduling load and callback at\", now());\n",
       "    window._bokeh_is_loading = js_urls.length;\n",
       "    for (var i = 0; i < js_urls.length; i++) {\n",
       "      var url = js_urls[i];\n",
       "      var s = document.createElement('script');\n",
       "      s.src = url;\n",
       "      s.async = false;\n",
       "      s.onreadystatechange = s.onload = function() {\n",
       "        window._bokeh_is_loading--;\n",
       "        if (window._bokeh_is_loading === 0) {\n",
       "          console.log(\"Bokeh: all BokehJS libraries loaded\");\n",
       "          run_callbacks()\n",
       "        }\n",
       "      };\n",
       "      s.onerror = function() {\n",
       "        console.warn(\"failed to load library \" + url);\n",
       "      };\n",
       "      console.log(\"Bokeh: injecting script tag for BokehJS library: \", url);\n",
       "      document.getElementsByTagName(\"head\")[0].appendChild(s);\n",
       "    }\n",
       "  };var element = document.getElementById(\"ac3cf6f7-3e42-481c-b901-f1ed1c929558\");\n",
       "  if (element == null) {\n",
       "    console.log(\"Bokeh: ERROR: autoload.js configured with elementid 'ac3cf6f7-3e42-481c-b901-f1ed1c929558' but no matching script tag was found. \")\n",
       "    return false;\n",
       "  }\n",
       "\n",
       "  var js_urls = [\"https://cdn.pydata.org/bokeh/release/bokeh-0.12.4.min.js\", \"https://cdn.pydata.org/bokeh/release/bokeh-widgets-0.12.4.min.js\"];\n",
       "\n",
       "  var inline_js = [\n",
       "    function(Bokeh) {\n",
       "      Bokeh.set_log_level(\"info\");\n",
       "    },\n",
       "    \n",
       "    function(Bokeh) {\n",
       "      \n",
       "      document.getElementById(\"ac3cf6f7-3e42-481c-b901-f1ed1c929558\").textContent = \"BokehJS is loading...\";\n",
       "    },\n",
       "    function(Bokeh) {\n",
       "      console.log(\"Bokeh: injecting CSS: https://cdn.pydata.org/bokeh/release/bokeh-0.12.4.min.css\");\n",
       "      Bokeh.embed.inject_css(\"https://cdn.pydata.org/bokeh/release/bokeh-0.12.4.min.css\");\n",
       "      console.log(\"Bokeh: injecting CSS: https://cdn.pydata.org/bokeh/release/bokeh-widgets-0.12.4.min.css\");\n",
       "      Bokeh.embed.inject_css(\"https://cdn.pydata.org/bokeh/release/bokeh-widgets-0.12.4.min.css\");\n",
       "    }\n",
       "  ];\n",
       "\n",
       "  function run_inline_js() {\n",
       "    \n",
       "    if ((window.Bokeh !== undefined) || (force === true)) {\n",
       "      for (var i = 0; i < inline_js.length; i++) {\n",
       "        inline_js[i](window.Bokeh);\n",
       "      }if (force === true) {\n",
       "        display_loaded();\n",
       "      }} else if (Date.now() < window._bokeh_timeout) {\n",
       "      setTimeout(run_inline_js, 100);\n",
       "    } else if (!window._bokeh_failed_load) {\n",
       "      console.log(\"Bokeh: BokehJS failed to load within specified timeout.\");\n",
       "      window._bokeh_failed_load = true;\n",
       "    } else if (force !== true) {\n",
       "      var cell = $(document.getElementById(\"ac3cf6f7-3e42-481c-b901-f1ed1c929558\")).parents('.cell').data().cell;\n",
       "      cell.output_area.append_execute_result(NB_LOAD_WARNING)\n",
       "    }\n",
       "\n",
       "  }\n",
       "\n",
       "  if (window._bokeh_is_loading === 0) {\n",
       "    console.log(\"Bokeh: BokehJS loaded, going straight to plotting\");\n",
       "    run_inline_js();\n",
       "  } else {\n",
       "    load_libs(js_urls, function() {\n",
       "      console.log(\"Bokeh: BokehJS plotting callback run at\", now());\n",
       "      run_inline_js();\n",
       "    });\n",
       "  }\n",
       "}(this));"
      ]
     },
     "metadata": {},
     "output_type": "display_data"
    }
   ],
   "source": [
    "import yt\n",
    "import numpy as np\n",
    "import bokeh\n",
    "import bokeh.plotting as blt\n",
    "bokeh.io.output_notebook()"
   ]
  },
  {
   "cell_type": "code",
   "execution_count": 2,
   "metadata": {
    "collapsed": false
   },
   "outputs": [
    {
     "name": "stderr",
     "output_type": "stream",
     "text": [
      "yt : [INFO     ] 2017-03-24 13:41:34,029 Parameters: current_time              = 94.734041784862\n",
      "yt : [INFO     ] 2017-03-24 13:41:34,030 Parameters: domain_dimensions         = [128 128 128]\n",
      "yt : [INFO     ] 2017-03-24 13:41:34,032 Parameters: domain_left_edge          = [ 0.  0.  0.]\n",
      "yt : [INFO     ] 2017-03-24 13:41:34,034 Parameters: domain_right_edge         = [ 1.  1.  1.]\n",
      "yt : [INFO     ] 2017-03-24 13:41:34,036 Parameters: cosmological_simulation   = 1\n",
      "yt : [INFO     ] 2017-03-24 13:41:34,038 Parameters: current_redshift          = 7.4462548121674\n",
      "yt : [INFO     ] 2017-03-24 13:41:34,039 Parameters: omega_lambda              = 0.68\n",
      "yt : [INFO     ] 2017-03-24 13:41:34,040 Parameters: omega_matter              = 0.32\n",
      "yt : [INFO     ] 2017-03-24 13:41:34,042 Parameters: hubble_constant           = 0.67\n",
      "Parsing Hierarchy : 100%|██████████| 1856/1856 [00:00<00:00, 13019.80it/s]\n",
      "yt : [INFO     ] 2017-03-24 13:41:34,297 Gathering a field list (this may take a moment.)\n",
      "/Users/Zephyr/Astro/yt/yt/data_objects/grid_patch.py:190: VisibleDeprecationWarning: using a non-integer number instead of an integer will result in an error in the future\n",
      "  startIndex[2]:endIndex[2]] = tofill\n"
     ]
    }
   ],
   "source": [
    "ytData=yt.load('/Users/Zephyr/Desktop/Elis_Enzo_Sim/data0010')\n",
    "ad=ytData.all_data()\n",
    "masses = ad['particle_mass'][:].in_units('Msun').v\n",
    "x_pos  = ad['particle_position_x'][:].in_units('kpc').v\n",
    "y_pos  = ad['particle_position_y'][:].in_units('kpc').v\n",
    "z_pos  = ad['particle_position_z'][:].in_units('kpc').v\n",
    "x_vel  = ad['particle_velocity_x'][:].in_units('kpc/Gyr').v\n",
    "y_vel  = ad['particle_velocity_y'][:].in_units('kpc/Gyr').v\n",
    "z_vel  = ad['particle_velocity_z'][:].in_units('kpc/Gyr').v"
   ]
  },
  {
   "cell_type": "code",
   "execution_count": 31,
   "metadata": {
    "collapsed": false
   },
   "outputs": [
    {
     "name": "stdout",
     "output_type": "stream",
     "text": [
      "center of mass:  167.935389897 185.102826472 185.333087003\n",
      "center of mass:  -0.00605945721115 0.00967773889773 -0.00113354260402\n"
     ]
    }
   ],
   "source": [
    "x_c=np.sum(masses*x_pos)/np.sum(masses)\n",
    "y_c=np.sum(masses*y_pos)/np.sum(masses)\n",
    "z_c=np.sum(masses*z_pos)/np.sum(masses)\n",
    "pos=np.array([x_pos-x_c,y_pos-y_c,z_pos-z_c])\n",
    "print('center of mass: ',x_c,y_c,z_c)\n",
    "x_u=np.sum(masses*x_vel)/np.sum(masses)\n",
    "y_u=np.sum(masses*y_vel)/np.sum(masses)\n",
    "z_u=np.sum(masses*z_vel)/np.sum(masses)\n",
    "vel=np.array([x_vel-x_u,y_vel-y_u,z_vel-z_u])\n",
    "print('center of mass: ',x_u,y_u,z_u)\n",
    "m=np.array(masses)\n",
    "rad=np.linalg.norm(pos,axis=0)"
   ]
  },
  {
   "cell_type": "code",
   "execution_count": 25,
   "metadata": {
    "collapsed": false
   },
   "outputs": [],
   "source": [
    "nParticle=rad.size\n",
    "vr=np.zeros(nParticle)\n",
    "vt=np.zeros(nParticle)\n",
    "for i in range(nParticle):\n",
    "    vr[i]=np.dot(pos[:,i],vel[:,i])/rad[i]\n",
    "    vt[i]=np.sqrt(np.linalg.norm(vel[:,i])**2-vr[i]**2)"
   ]
  },
  {
   "cell_type": "code",
   "execution_count": 56,
   "metadata": {
    "collapsed": false
   },
   "outputs": [],
   "source": [
    "rMin=1\n",
    "rMax=10\n",
    "nBin=4\n",
    "edges=np.logspace(np.log(rMin),np.log(rMax),nBin+1)\n",
    "rho=np.zeros(nBin)\n",
    "vRad=np.zeros(nBin)\n",
    "sRad=np.zeros(nBin)\n",
    "vTan=np.zeros(nBin)\n",
    "sTan=np.zeros(nBin)\n",
    "for i in range(nBin):\n",
    "    inBin=np.argwhere((rad>edges[i]) & (rad<edges[i+1]))\n",
    "    #print(inBin)\n",
    "    rho[i]=np.sum(m[inBin])/((4/3)*np.pi*(edges[i+1]**3 - edges[i]**3))"
   ]
  },
  {
   "cell_type": "code",
   "execution_count": 57,
   "metadata": {
    "collapsed": false
   },
   "outputs": [
    {
     "name": "stderr",
     "output_type": "stream",
     "text": [
      "/Users/Zephyr/Astro/anaconda/lib/python3.5/site-packages/bokeh/models/sources.py:81: BokehUserWarning: ColumnDataSource's columns must be of the same length\n",
      "  lambda: warnings.warn(\"ColumnDataSource's columns must be of the same length\", BokehUserWarning))\n"
     ]
    },
    {
     "data": {
      "text/html": [
       "\n",
       "\n",
       "    <div class=\"bk-root\">\n",
       "        <div class=\"bk-plotdiv\" id=\"6fa68c1c-b721-4215-83da-ef1940b499ed\"></div>\n",
       "    </div>\n",
       "<script type=\"text/javascript\">\n",
       "  \n",
       "  (function(global) {\n",
       "    function now() {\n",
       "      return new Date();\n",
       "    }\n",
       "  \n",
       "    var force = false;\n",
       "  \n",
       "    if (typeof (window._bokeh_onload_callbacks) === \"undefined\" || force === true) {\n",
       "      window._bokeh_onload_callbacks = [];\n",
       "      window._bokeh_is_loading = undefined;\n",
       "    }\n",
       "  \n",
       "  \n",
       "    \n",
       "    if (typeof (window._bokeh_timeout) === \"undefined\" || force === true) {\n",
       "      window._bokeh_timeout = Date.now() + 0;\n",
       "      window._bokeh_failed_load = false;\n",
       "    }\n",
       "  \n",
       "    var NB_LOAD_WARNING = {'data': {'text/html':\n",
       "       \"<div style='background-color: #fdd'>\\n\"+\n",
       "       \"<p>\\n\"+\n",
       "       \"BokehJS does not appear to have successfully loaded. If loading BokehJS from CDN, this \\n\"+\n",
       "       \"may be due to a slow or bad network connection. Possible fixes:\\n\"+\n",
       "       \"</p>\\n\"+\n",
       "       \"<ul>\\n\"+\n",
       "       \"<li>re-rerun `output_notebook()` to attempt to load from CDN again, or</li>\\n\"+\n",
       "       \"<li>use INLINE resources instead, as so:</li>\\n\"+\n",
       "       \"</ul>\\n\"+\n",
       "       \"<code>\\n\"+\n",
       "       \"from bokeh.resources import INLINE\\n\"+\n",
       "       \"output_notebook(resources=INLINE)\\n\"+\n",
       "       \"</code>\\n\"+\n",
       "       \"</div>\"}};\n",
       "  \n",
       "    function display_loaded() {\n",
       "      if (window.Bokeh !== undefined) {\n",
       "        document.getElementById(\"6fa68c1c-b721-4215-83da-ef1940b499ed\").textContent = \"BokehJS successfully loaded.\";\n",
       "      } else if (Date.now() < window._bokeh_timeout) {\n",
       "        setTimeout(display_loaded, 100)\n",
       "      }\n",
       "    }\n",
       "  \n",
       "    function run_callbacks() {\n",
       "      window._bokeh_onload_callbacks.forEach(function(callback) { callback() });\n",
       "      delete window._bokeh_onload_callbacks\n",
       "      console.info(\"Bokeh: all callbacks have finished\");\n",
       "    }\n",
       "  \n",
       "    function load_libs(js_urls, callback) {\n",
       "      window._bokeh_onload_callbacks.push(callback);\n",
       "      if (window._bokeh_is_loading > 0) {\n",
       "        console.log(\"Bokeh: BokehJS is being loaded, scheduling callback at\", now());\n",
       "        return null;\n",
       "      }\n",
       "      if (js_urls == null || js_urls.length === 0) {\n",
       "        run_callbacks();\n",
       "        return null;\n",
       "      }\n",
       "      console.log(\"Bokeh: BokehJS not loaded, scheduling load and callback at\", now());\n",
       "      window._bokeh_is_loading = js_urls.length;\n",
       "      for (var i = 0; i < js_urls.length; i++) {\n",
       "        var url = js_urls[i];\n",
       "        var s = document.createElement('script');\n",
       "        s.src = url;\n",
       "        s.async = false;\n",
       "        s.onreadystatechange = s.onload = function() {\n",
       "          window._bokeh_is_loading--;\n",
       "          if (window._bokeh_is_loading === 0) {\n",
       "            console.log(\"Bokeh: all BokehJS libraries loaded\");\n",
       "            run_callbacks()\n",
       "          }\n",
       "        };\n",
       "        s.onerror = function() {\n",
       "          console.warn(\"failed to load library \" + url);\n",
       "        };\n",
       "        console.log(\"Bokeh: injecting script tag for BokehJS library: \", url);\n",
       "        document.getElementsByTagName(\"head\")[0].appendChild(s);\n",
       "      }\n",
       "    };var element = document.getElementById(\"6fa68c1c-b721-4215-83da-ef1940b499ed\");\n",
       "    if (element == null) {\n",
       "      console.log(\"Bokeh: ERROR: autoload.js configured with elementid '6fa68c1c-b721-4215-83da-ef1940b499ed' but no matching script tag was found. \")\n",
       "      return false;\n",
       "    }\n",
       "  \n",
       "    var js_urls = [];\n",
       "  \n",
       "    var inline_js = [\n",
       "      function(Bokeh) {\n",
       "        (function() {\n",
       "          var fn = function() {\n",
       "            var docs_json = {\"517fd26e-5b3a-4b27-ba1b-3d973c09a560\":{\"roots\":{\"references\":[{\"attributes\":{\"plot\":{\"id\":\"bbdc3250-7cf8-41c7-a483-e6ba9b3806cf\",\"subtype\":\"Figure\",\"type\":\"Plot\"}},\"id\":\"19f44a33-7fcb-4029-8bb0-8bdb43f2ec43\",\"type\":\"WheelZoomTool\"},{\"attributes\":{\"num_minor_ticks\":10},\"id\":\"3b7eeb17-7f09-4c5d-9f86-2313fea48891\",\"type\":\"LogTicker\"},{\"attributes\":{\"bottom_units\":\"screen\",\"fill_alpha\":{\"value\":0.5},\"fill_color\":{\"value\":\"lightgrey\"},\"left_units\":\"screen\",\"level\":\"overlay\",\"line_alpha\":{\"value\":1.0},\"line_color\":{\"value\":\"black\"},\"line_dash\":[4,4],\"line_width\":{\"value\":2},\"plot\":null,\"render_mode\":\"css\",\"right_units\":\"screen\",\"top_units\":\"screen\"},\"id\":\"2fd9aeb2-89dc-4d3b-8900-b295f1b67229\",\"type\":\"BoxAnnotation\"},{\"attributes\":{\"plot\":null,\"text\":\"\"},\"id\":\"b54be8f7-3a1c-449e-9803-d565f52c2bdf\",\"type\":\"Title\"},{\"attributes\":{\"formatter\":{\"id\":\"cae60b65-cf05-4880-9c28-9db93b614704\",\"type\":\"LogTickFormatter\"},\"plot\":{\"id\":\"bbdc3250-7cf8-41c7-a483-e6ba9b3806cf\",\"subtype\":\"Figure\",\"type\":\"Plot\"},\"ticker\":{\"id\":\"3b7eeb17-7f09-4c5d-9f86-2313fea48891\",\"type\":\"LogTicker\"}},\"id\":\"40fda794-74ee-47bf-bed8-b8ac194e7e22\",\"type\":\"LogAxis\"},{\"attributes\":{\"dimension\":1,\"plot\":{\"id\":\"bbdc3250-7cf8-41c7-a483-e6ba9b3806cf\",\"subtype\":\"Figure\",\"type\":\"Plot\"},\"ticker\":{\"id\":\"d660be3f-f677-4e22-bd41-c2ca5ca28b49\",\"type\":\"LogTicker\"}},\"id\":\"796fe5e6-1525-4abc-9c72-786076ace648\",\"type\":\"Grid\"},{\"attributes\":{\"below\":[{\"id\":\"40fda794-74ee-47bf-bed8-b8ac194e7e22\",\"type\":\"LogAxis\"}],\"left\":[{\"id\":\"c376abe8-174b-4033-af30-e721c396d88b\",\"type\":\"LogAxis\"}],\"renderers\":[{\"id\":\"40fda794-74ee-47bf-bed8-b8ac194e7e22\",\"type\":\"LogAxis\"},{\"id\":\"33f188ce-8bf3-4790-a714-5bc4d2ffc29f\",\"type\":\"Grid\"},{\"id\":\"c376abe8-174b-4033-af30-e721c396d88b\",\"type\":\"LogAxis\"},{\"id\":\"796fe5e6-1525-4abc-9c72-786076ace648\",\"type\":\"Grid\"},{\"id\":\"2fd9aeb2-89dc-4d3b-8900-b295f1b67229\",\"type\":\"BoxAnnotation\"},{\"id\":\"28a8f1cc-714b-486e-bd25-29948fe14d21\",\"type\":\"GlyphRenderer\"}],\"title\":{\"id\":\"b54be8f7-3a1c-449e-9803-d565f52c2bdf\",\"type\":\"Title\"},\"tool_events\":{\"id\":\"9e50416f-0422-4323-a6ad-2e65a618d95b\",\"type\":\"ToolEvents\"},\"toolbar\":{\"id\":\"53d70956-ae06-4fa2-a4c8-e9dd71d0f4fe\",\"type\":\"Toolbar\"},\"x_mapper_type\":\"log\",\"x_range\":{\"id\":\"5fbf7f6f-2383-4aec-9ec4-8be6a0c0dcf6\",\"type\":\"DataRange1d\"},\"y_mapper_type\":\"log\",\"y_range\":{\"id\":\"eda27a14-06f9-4b07-9174-21061075b77e\",\"type\":\"DataRange1d\"}},\"id\":\"bbdc3250-7cf8-41c7-a483-e6ba9b3806cf\",\"subtype\":\"Figure\",\"type\":\"Plot\"},{\"attributes\":{\"plot\":{\"id\":\"bbdc3250-7cf8-41c7-a483-e6ba9b3806cf\",\"subtype\":\"Figure\",\"type\":\"Plot\"}},\"id\":\"475b98a9-4ba3-4de5-8e4c-cbedd134dba3\",\"type\":\"HelpTool\"},{\"attributes\":{\"formatter\":{\"id\":\"82b28ddf-e1a1-41ae-a07e-659c74390b44\",\"type\":\"LogTickFormatter\"},\"plot\":{\"id\":\"bbdc3250-7cf8-41c7-a483-e6ba9b3806cf\",\"subtype\":\"Figure\",\"type\":\"Plot\"},\"ticker\":{\"id\":\"d660be3f-f677-4e22-bd41-c2ca5ca28b49\",\"type\":\"LogTicker\"}},\"id\":\"c376abe8-174b-4033-af30-e721c396d88b\",\"type\":\"LogAxis\"},{\"attributes\":{},\"id\":\"9e50416f-0422-4323-a6ad-2e65a618d95b\",\"type\":\"ToolEvents\"},{\"attributes\":{\"callback\":null},\"id\":\"eda27a14-06f9-4b07-9174-21061075b77e\",\"type\":\"DataRange1d\"},{\"attributes\":{\"overlay\":{\"id\":\"2fd9aeb2-89dc-4d3b-8900-b295f1b67229\",\"type\":\"BoxAnnotation\"},\"plot\":{\"id\":\"bbdc3250-7cf8-41c7-a483-e6ba9b3806cf\",\"subtype\":\"Figure\",\"type\":\"Plot\"}},\"id\":\"6f12ddc2-4bbc-4780-acf6-9acb8c8b8f7d\",\"type\":\"BoxZoomTool\"},{\"attributes\":{\"num_minor_ticks\":10},\"id\":\"d660be3f-f677-4e22-bd41-c2ca5ca28b49\",\"type\":\"LogTicker\"},{\"attributes\":{\"data_source\":{\"id\":\"2d6f2989-4140-4abe-9356-3fe74f0f91c1\",\"type\":\"ColumnDataSource\"},\"glyph\":{\"id\":\"d6708e8e-d408-4342-b073-2241897f71d4\",\"type\":\"Line\"},\"hover_glyph\":null,\"nonselection_glyph\":{\"id\":\"c38474bc-83ec-4890-80f1-fddf3680dd21\",\"type\":\"Line\"},\"selection_glyph\":null},\"id\":\"28a8f1cc-714b-486e-bd25-29948fe14d21\",\"type\":\"GlyphRenderer\"},{\"attributes\":{\"plot\":{\"id\":\"bbdc3250-7cf8-41c7-a483-e6ba9b3806cf\",\"subtype\":\"Figure\",\"type\":\"Plot\"}},\"id\":\"56f53575-9bbe-4d0b-ad7b-0724248265ec\",\"type\":\"PanTool\"},{\"attributes\":{\"callback\":null,\"column_names\":[\"x\",\"y\"],\"data\":{\"x\":{\"__ndarray__\":\"AAAAAAAA8D8wJS7ZnBwOQL9hs6y/VSxAgAr0m7mpSkBHffs09RZpQA==\",\"dtype\":\"float64\",\"shape\":[5]},\"y\":{\"__ndarray__\":\"s9vEzz54xUDRwXJYkhvkQNfxN+1pN9hAP14bZ2FO0EA=\",\"dtype\":\"float64\",\"shape\":[4]}}},\"id\":\"2d6f2989-4140-4abe-9356-3fe74f0f91c1\",\"type\":\"ColumnDataSource\"},{\"attributes\":{\"callback\":null},\"id\":\"5fbf7f6f-2383-4aec-9ec4-8be6a0c0dcf6\",\"type\":\"DataRange1d\"},{\"attributes\":{\"plot\":{\"id\":\"bbdc3250-7cf8-41c7-a483-e6ba9b3806cf\",\"subtype\":\"Figure\",\"type\":\"Plot\"}},\"id\":\"d1da0c5e-31ea-4175-912f-253d8bda34dd\",\"type\":\"SaveTool\"},{\"attributes\":{\"line_color\":{\"value\":\"#1f77b4\"},\"x\":{\"field\":\"x\"},\"y\":{\"field\":\"y\"}},\"id\":\"d6708e8e-d408-4342-b073-2241897f71d4\",\"type\":\"Line\"},{\"attributes\":{\"plot\":{\"id\":\"bbdc3250-7cf8-41c7-a483-e6ba9b3806cf\",\"subtype\":\"Figure\",\"type\":\"Plot\"}},\"id\":\"86adcd62-3ecf-4d2a-90e5-aa2537417450\",\"type\":\"ResetTool\"},{\"attributes\":{\"line_alpha\":{\"value\":0.1},\"line_color\":{\"value\":\"#1f77b4\"},\"x\":{\"field\":\"x\"},\"y\":{\"field\":\"y\"}},\"id\":\"c38474bc-83ec-4890-80f1-fddf3680dd21\",\"type\":\"Line\"},{\"attributes\":{\"ticker\":null},\"id\":\"82b28ddf-e1a1-41ae-a07e-659c74390b44\",\"type\":\"LogTickFormatter\"},{\"attributes\":{\"plot\":{\"id\":\"bbdc3250-7cf8-41c7-a483-e6ba9b3806cf\",\"subtype\":\"Figure\",\"type\":\"Plot\"},\"ticker\":{\"id\":\"3b7eeb17-7f09-4c5d-9f86-2313fea48891\",\"type\":\"LogTicker\"}},\"id\":\"33f188ce-8bf3-4790-a714-5bc4d2ffc29f\",\"type\":\"Grid\"},{\"attributes\":{\"active_drag\":\"auto\",\"active_scroll\":\"auto\",\"active_tap\":\"auto\",\"tools\":[{\"id\":\"56f53575-9bbe-4d0b-ad7b-0724248265ec\",\"type\":\"PanTool\"},{\"id\":\"19f44a33-7fcb-4029-8bb0-8bdb43f2ec43\",\"type\":\"WheelZoomTool\"},{\"id\":\"6f12ddc2-4bbc-4780-acf6-9acb8c8b8f7d\",\"type\":\"BoxZoomTool\"},{\"id\":\"d1da0c5e-31ea-4175-912f-253d8bda34dd\",\"type\":\"SaveTool\"},{\"id\":\"86adcd62-3ecf-4d2a-90e5-aa2537417450\",\"type\":\"ResetTool\"},{\"id\":\"475b98a9-4ba3-4de5-8e4c-cbedd134dba3\",\"type\":\"HelpTool\"}]},\"id\":\"53d70956-ae06-4fa2-a4c8-e9dd71d0f4fe\",\"type\":\"Toolbar\"},{\"attributes\":{\"ticker\":null},\"id\":\"cae60b65-cf05-4880-9c28-9db93b614704\",\"type\":\"LogTickFormatter\"}],\"root_ids\":[\"bbdc3250-7cf8-41c7-a483-e6ba9b3806cf\"]},\"title\":\"Bokeh Application\",\"version\":\"0.12.4\"}};\n",
       "            var render_items = [{\"docid\":\"517fd26e-5b3a-4b27-ba1b-3d973c09a560\",\"elementid\":\"6fa68c1c-b721-4215-83da-ef1940b499ed\",\"modelid\":\"bbdc3250-7cf8-41c7-a483-e6ba9b3806cf\"}];\n",
       "            \n",
       "            Bokeh.embed.embed_items(docs_json, render_items);\n",
       "          };\n",
       "          if (document.readyState != \"loading\") fn();\n",
       "          else document.addEventListener(\"DOMContentLoaded\", fn);\n",
       "        })();\n",
       "      },\n",
       "      function(Bokeh) {\n",
       "      }\n",
       "    ];\n",
       "  \n",
       "    function run_inline_js() {\n",
       "      \n",
       "      if ((window.Bokeh !== undefined) || (force === true)) {\n",
       "        for (var i = 0; i < inline_js.length; i++) {\n",
       "          inline_js[i](window.Bokeh);\n",
       "        }if (force === true) {\n",
       "          display_loaded();\n",
       "        }} else if (Date.now() < window._bokeh_timeout) {\n",
       "        setTimeout(run_inline_js, 100);\n",
       "      } else if (!window._bokeh_failed_load) {\n",
       "        console.log(\"Bokeh: BokehJS failed to load within specified timeout.\");\n",
       "        window._bokeh_failed_load = true;\n",
       "      } else if (force !== true) {\n",
       "        var cell = $(document.getElementById(\"6fa68c1c-b721-4215-83da-ef1940b499ed\")).parents('.cell').data().cell;\n",
       "        cell.output_area.append_execute_result(NB_LOAD_WARNING)\n",
       "      }\n",
       "  \n",
       "    }\n",
       "  \n",
       "    if (window._bokeh_is_loading === 0) {\n",
       "      console.log(\"Bokeh: BokehJS loaded, going straight to plotting\");\n",
       "      run_inline_js();\n",
       "    } else {\n",
       "      load_libs(js_urls, function() {\n",
       "        console.log(\"Bokeh: BokehJS plotting callback run at\", now());\n",
       "        run_inline_js();\n",
       "      });\n",
       "    }\n",
       "  }(this));\n",
       "</script>"
      ]
     },
     "metadata": {},
     "output_type": "display_data"
    }
   ],
   "source": [
    "fig=blt.figure(x_axis_type='log',y_axis_type='log')\n",
    "fig.line(edges,rho)\n",
    "blt.show(fig)"
   ]
  },
  {
   "cell_type": "code",
   "execution_count": 71,
   "metadata": {
    "collapsed": false
   },
   "outputs": [
    {
     "name": "stderr",
     "output_type": "stream",
     "text": [
      "yt : [INFO     ] 2017-03-26 20:12:36,293 Projection completed\n",
      "yt : [INFO     ] 2017-03-26 20:12:36,294 xlim = 0.000000 1.000000\n",
      "yt : [INFO     ] 2017-03-26 20:12:36,295 ylim = 0.000000 1.000000\n",
      "yt : [INFO     ] 2017-03-26 20:12:36,298 xlim = 0.000000 1.000000\n",
      "yt : [INFO     ] 2017-03-26 20:12:36,299 ylim = 0.000000 1.000000\n",
      "yt : [INFO     ] 2017-03-26 20:12:36,301 Making a fixed resolution buffer of (('gas', 'density')) 800 by 800\n",
      "yt : [INFO     ] 2017-03-26 20:12:36,525 Making a fixed resolution buffer of (('gas', 'density')) 800 by 800\n"
     ]
    },
    {
     "data": {
      "text/html": [
       "<img style=\"max-width:100%%;max-height:100%%;\" src=\"data:image/png;base64,iVBORw0KGgoAAAANSUhEUgAABD0AAAOYCAYAAADWgoirAAAABHNCSVQICAgIfAhkiAAAAAlwSFlzAAAPYQAAD2EBqD+naQAAIABJREFUeJzs3Xu4VHW9P/DP2ps7ooCKBggCRoDXjnkDTcSOZJiSYsduaoVKamqJl84xU7PCTPPYQbwEmlbmpbyUWWgmJabITwERytK8EYqg3DfI3nt+f5A7Cdhc9sxaM2ter+eZ59nMLNb3MzNrz555z/ezvkmhUCgEAAAAQM7UZF0AAAAAQCkIPQAAAIBcEnoAAAAAuST0AAAAAHJJ6AEAAADkktADAAAAyCWhBwAAAJBLQg8AAAAgl4QeAAAAQC4JPQAAAIBcEnoAAAAAuST0AAAAAHJJ6AEAAADkktADAAAAyCWhBwAAAJBLQg8AAAAgl4QeAAAAQC4JPQAAAIBcEnoAAAAAuST0AAAAAHJJ6AEAAADkktADAAAAyCWhBwAAAJBLQg8AAAAgl4QeAAAAQC4JPQAAAIBcEnoAAAAAuST0AAAAAHKpVdYFUDoLFy6M3/72t7HrrrtG+/btsy4HAADIsbq6upg+fXrsscce0aVLl1TH3mGHHaJXr16pjkllEHrk2G9/+9v47Gc/m3UZAABAlejQoSZWrmzMYNwOMXfuXMEH6xF65Niuu+4aEREfbdc2utaWVyfTlFWr49B2bbMuY4uUXc1J7SY3mVJXF4eWYpZPoaH4+3yPsnusN4Oa01GJNUdUZt1TVr1TmtePEirZa16JlVfdm/d+YUrdyji0fYcS11JcWdacJBt/XAuFjX843Nyam9v/pv9z8d8jPrpyWQzt0Kno+y2laqq5pqZNCapZ68XVdTF15ZK47aY9YuAHOpZsnH839y8r4nOnzI6FCxcKPViP0CPH3m1p6VpbE91qN/0BOU1tk6TsatqUcqs52YzQo22SxE4lqLlQKPou11Fuj/XmUHM6KrHmiMqsu1SvH6VUiTVHlFndm/G3JeKfNbeqrLeRWda8taHH5tbcstCj+Mfe2rpbF32/pVRNNdfUli6EX1S/JiIiBn6gY/zHPtuWbBzYEuX19T9Vo3/rynqjFFGZNX+gdWX98a5klXh8qDk9lVp3panU17xKrPsDbUr3TXGpVGLNlWpAm3ZZl7DF1Az55V0YmRhQgW/wKrJmb/BSU5HHh5pTU6l1V5pKfc2rxLoHtKmsdq2Iyqy5Ug1oWy7tWptPzcXVWKiPxsKaVMeDjTHTAwAAAMgloQdQdrQCQPYqseUC8kZLDkDL+WQBlB2tAJC9Smy5gLzRkkOlaoyGaIj0Wk4ao7QrC1LZhB5QoQrNLBu7OSu7AADF0ZLVU1q08krOlfr9THPvpcqd93qw+YQekEOb+iPuDyUAbD7BxNYp9/cbpazPl1NQPoQeAAAAFE1jNESj9hbKhNgaAAAAyCWhBwAAAJBL2lsAAAAomsaoT3n1lvTGovKY6QEAAADkktADAAAAyCXtLQAAVD3L0m45S69uXLU/Ng3RGA0prqjSEI2pjUXl8eoOAAAA5JLQAwAAAMgl7S0AAAAUTWM0ptpy0qi9hWaY6QEAAADkktADAAAAyCXtLQAAABRNQxRSbW9piEJqY1F5hB4AAABUnF/cvTh+cffiWLokveVxqTxCD2iBal2DvVrvN1QVv+dVKUkquPPZMbtVsv6bXtHHXIUq5WOeJEnJ9r0hx47qHMeO6hwzZ9TFRw79W6pjUzmEHgAAABRNQxSiPsWWE+0tNEe0CgAAAOSS0AMAAADIJaEHAAAAkEvO6QEAAEDRNEYh1fNsNDqnB80w0wMAAADIJaEHAACQOsvVAmnQ3gIAAGwVwQUb0vDPS5rjwcZ4lQIAAABySegBAAAA5JL2FgAAAIqmIZKojyTV8WBjzPQAAAAAcknoAQAAAOSS9pYqMGXV6mibJNG/dasY0Lp11uUAAAA5MnfV8pi7akUsa1wTERGNke6KKo0pjkXlEXpUgUPbtY1utbVZl5E7SeIxBYCi8re17FiSls0xsN02MbDdNjGnblk8sGxh1uXAOoQeAABkT+CRCaEGkHdCDwAAAIrG6i2UE9EuAAAAkEtCDwAAACCXtLcAAABQNPWRRH2K36+n2UpD5THTAwAAAMgloQcAAACQS9pbAAAAKJrGqImGFL9fb/RdPs1wdAAAAAC5JPQAAAAAckl7CwAAAEXTEEmqK6o0WL2FZpjpAQAAAOSS0AMAAADIJaEHAAAAkEvO6QEAAEDRrD2nR3rfrzunB80RelSDpDaSpLZkuy8UGkq2bwAgJ0r4XgTYAqX8XUw0ElB+hB4AABSHYAM2j98VSI3QAwAAgKKpj9qoj/SCnTTHovKYfwQAAADkktADAAAAyCXtLQAAABRNYyTRkOL3641Wb6EZZnoAAAAAuST0AAAAAHJJewsAAABF0xA1UZ/i9+tpttJQeRwdAAAAQC6Z6QEAAEDFeeTuN+P3d78Zy5c0ZF0KZUzoAQAAQNHUR03UR23Jx/nwqJ3jw6N2jr/OWBZfPvSZko9HZdLeAgAAAOSS0AMAAADIJe0tAABA+pItbH8oOG9DpbB6C+VE6AEAAFUi2dKgoZxsqnahCLABQg8AAFqukj9MV7hMg4xyet7LqRagbAg9AAAAKJrGQk00FNILoRoL2lvYOEcHAAAAkEtCDwAAACCXtLcAAABQNFZvoZw4OgAAAIBcEnoAAAAAuST0AAAAAHLJOT0AAKBCJUl6y4KuP3iGY1PW6qMm6iO94yPN84dQeRwdAAAAQC4JPQAAAIBc0t4CAABA0TREbartLQ0pjkXlEXpUgSl1ddE2SeIDrVvHgDZtsi4HAADIkbl1y2LuqmWxrLE+61JgPUKPKnBo+/axU630EwAAKL6B7TvFwPadYk7d0nhg6YKsy4F1CD0AAAAomoZIUl1RpSGS1Mai8gg9qGqZLvMGsCleo0ibY64sWZYWYOsJPah4ggsA+JcksThfpRFqAJSO0AMAAICiaYzaaCikF6g1Wr2FZvgqAAAAAMgloQcAAACQS9pbAAAAKJr6lFdvqbd6C80w0wMAAADIJaEHAAAAkEvaWwAAACiahqiN+hRXVGmwegvNMNMDAAAAyCWhBwAAAJBL2lsAAAAomoZCTdQXUmxvKfgun40TegAAQLUqNKz778S5EYB8EYkBAAAAuWSmBwAAAEXTEDXRkOL362mOReVxdAAAAAC5ZKYHAEAZSRLfSeVNUs7nySjn2gCKwF9VKlpZv4kAAAAgU2Z6AAAAUDQNURP1keKStb7LpxmODgAAACCXhB4AAABALmlvAQAAoGgaCjVRX0hxydoUx6LyODoAAACAXBJ6AAAAALmkvQUAAFogSdJbpQIqgdVbKCeODgAAACCXhB4AAABALmlvAQAAoGgaCjWprqhi9Raa4+gAAAAAcknoAQAAAOSS9hYAAACKxuotlBNHBwCUI0tgVqUk8dYMAIrJTA8AaI7wgQ0QTuRP4ncdIJeEHgAAABRNY8qrtzRavYVmODoAAACAXBJ6AAAAALmkvQUAAICisXoL5cTRAQAAAOSS0AMAAADIJe0tAABbwHK1AM1riHRXb9HeQnMcHQAA/yZJajZ6IX+SJL1zDwDl49FHH41f/vKXqY3397//PU455ZT49a9/ndqYCD0AAACoIs8880wMHz48hg0bFs8880yz27744otx0kknxb777htDhgyJD33oQ/HDH/5wi8YrFApx7733xplnnhmTJk2KVatWtaR8tpD2liowpa4u2iZJfKB16xjQpk3W5QAAADkyt25ZzF21LJY11mddSrOWLFkSN910U7zxxhvx5JNPRpIkzW4/Y8aMGDp0aIwcOTKmTZsWtbW18fjjj8fw4cNj+vTpcf3112/WuEmSxMiRI2PbbbeN3/zmN8W4K2wBoUcVOLR9+9ip1rRNAACg+Aa27xQD23eKOXVL44GlC8p2ydrtttsuxo4dGxERr732Wtx5550b3Xbp0qVx9NFHR+vWrWP8+PFR+8/PU4MHD47zzjsvLrnkkhg8eHCceOKJm11nbW1tFAqFzd6e4tDeAgAAQFVp165ds7dPmDAhXnvttTj++OOjY8eO69z2hS98ISIiLrroomhoaChZjRSH0AMAAADeY+LEiZEkSRx66KHr3dazZ8/o27dvzJs3Lx5++OEMqmNLCD0AAAAomsbC2iVr07o0Fnl53IULF8bf/va3iIgYNGjQBrfZY489IiJi8uTJRR2b4hN6AAC8h2VpK1OS1G71BeC9nnvuuaafe/ToscFtunfvHoVCIWbPnh0RET/96U+jU6dOTZc999wzlVrZNCcyBQByR3ABwNZ66623mn7u1KnTBrfZdtttIyJiwYIFERFxzDHHxIEHHth0e+vWrUtYIVtC6AEAAEDR1Bdqor7ILSebGq+YVq5c2fTzxsKLtm3bRkTEihUrIiKiY8eO0bdv36LWQXH4GgQAAAD+qX379k0/19fXb3CbNWvWREREhw4dNnu/q1atioiIxsbGFlTHlhJ6AAAAwD/tvPPOTT8vX758g9u8e/1OO+20Wft84IEHYty4cZEkSdx4441x//33t7xQNov2FgAAAIqmMWqiIUpzkuAX7pkTL9wzJyIiVsxfFitfXxaN9cWdOTFw4MBIkiQiIubPnx+dO3deb5v58+dHkiSx++67b9Y+R4wYESNGjChqnWweoQcAAAAVod8nBkW/T6y7jOzCWa/HvUfcUrQxunTpEnvttVfMmjUr5syZEwMHDlxvm3dXeDnssMOKNi6lob0FAAAA3uOEE06IQqEQf/zjH9e7bcGCBfH8889H165d44gjjsigOraE0AMAAICiaSjUpH7ZUnV1dRGx8ZOKnnrqqbHjjjvGHXfc0XQC0ndNmjQpCoVCjB07tmkVF8qX0AMAAICqsWjRonjssceiUCjE1KlTo6GhYb1tunTpErfddlssW7YszjzzzKZVXJ566qkYN25cjBgxIs4///y0S2crCD0AAADIvcbGxthvv/2iT58+TScifeSRR6JHjx5x3HHHrbf9EUccEU888USsWLEiDjrooPjwhz8cX/rSl+Lyyy+P++67r+lkp5Q3JzIFAACgaBoKSdRvRctJS8bbHDU1NfHUU09t0b732GOPuP3227emLMqEmR4AAABALgk9AAAAgFzS3gIAAEDRNEZNNKT4/Xqj7/JphqMDAAAAyCUzPWixJKnNugSqieMNUpEkVfy9SBW/zmT5N72qj7mWaOFz5nGvPiV9zlM+nl66Z3a8fO/seGfpqlTHpbIIPQAAACiahqiJhkLpQ9RdRu4du4zcO9569h/x0EdvKPl4VCbRLgAAAJBLQg8AAAAgl4QeAAAAQC45pwcAAABF01ioiYZCikvWpjgWlcfRAQAAAOSS0AMAAADIJe0tAAAAFE1jJNGQ4vfrjZGkNhaVx0wPAAAAIJeEHgAAAEAuaW8BAACgaBpSXr0lzbGoPEIPAAAAKs5r986IeffNijXL6rIuhTImEqtwa9asiV/96ldZlwEAAJCqniP3iQNuPjH2+MZRWZdCGRN6VIiGhobo3bt31NTUrHNp27ZtTJs2LevyAAAAIiKi8Z/tLWldGrW30AztLRXiZz/7Wbz22muRJOsux9SuXbsYPXp0RlWRqaQ2u7ELDdmNDbA5snyNrGJJUsEfPJo7Zjb1d8/xBlC2hB4V4qqrroqf//znMWzYsHWub9euXbRp0yajqgAoZxX9AZSyVLbHVKlDB6FGPrXkeW3pF0COKUiN0KMCPPzww1EoFGLkyJFZlwIAANCshkKS8uotyaY3omqVaVzPe1155ZWxaNGi+NKXvhS33357vP3221mXBAAAAGVP6FHmnn322XjooYdi3rx5ccMNN8RnPvOZ2HnnneOLX/xiLF68OOvyAAAAoGxpbylz2223Xdxyyy0xf/78mDp1akyePDnWrFkTN998c0yZMiUef/zx6NatW9ZlAgAAREREY9Sk2t7S6Lt8miH0KHO9evWKE088senfCxYsiIsuuigmTpwYf//732PUqFHxhz/8IcMKAQAAoDyJxCpMt27d4sYbb4wf/vCHUSgUYurUqfH73/8+67IAAACg7Ag9KtTnP//5GDVqVERETJ06NeNqAIA8SJKaZi/ZFle78QtQVhojicaoSfFi9RY2TuhRwU466aQoFArxj3/8I+tSAABaTrABQJE5p0cF22233SIiYtttt212uyl1ddE2WTf9/EDr1jGgTZuS1QYAAOTXnLqlMXfVsnWuW9ZQn1E1sHFCjwq2cuXKiIgYOHBgs9sd2r597FTrGxIAAKA4BrXfNga1X/fL1+fqlsYDS16PxkI6q7e8cf//iwX3Px31y+pKPhaVS+hRwSZPnhwdOnSIj3/841mXAgAAkKqdjt43djp631g2+9X4fx//XtblUKac06OM1dfXx9VXXx2TJk2K1atXr3Pb66+/HldffXWMGzcuunbtmlGFAAAAUL6EHmVs7ty5MXbs2Bg9enTstdde8dBDD0WhUIinn346jjzyyDj33HPjzDPPzLpMAAAAKEvaW8rYnnvuGd/73vdi0qRJ8fe//z1GjhwZffr0iUMOOSRuu+222GOPPbIuEQAAYB2NhZpoTOGcHu8dDzZG6FHmvvrVr8ZXv/rVFu6lprRLvRUaSrdv8snSg1SIJKniN1F+TytSkvXzlvX4bDnP2dbxuEHFEHoAW84feipEVYcWVKzMgwsg31ryGuPLTiqQ0AMAAICiaSwk0VBIUh0PNsZXYAAAAEAuCT0AAACAXNLeAgAAQNE0FpKUV2/R3sLGmekBAAAA5JLQAwAAAMgl7S0AALScpXaBfypETartLQXf5dMMRwcAAACQS0IPAAAAIJe0twAAAFA0aa3esuhX0+KtX02L+mV1JR+LyiX0AAAAoOJsf9T+sf1R+8eK516OOZ/4VtblUKa0twAAAAC5ZKYHAAAARVMoJNFYSFIdDzZG6AFA2UsSExOpDkm5L/ta7vUBpZXURhQasq4CtojQAwDInbIPDzKyyQDR41ZxhMKkrrnXicSMC8qP0AMAAICiaSzUpLJ6y3vHg41xdAAAAAC5JPQAAAAAckl7CwAAAEVTKCRRSLHlxOotNMdMDwAAACCXhB4AAABALmlvAQDIEUuYAsC/CD0AACBDgirypjGSaIz0zrOR5lhUHq+wAAAAQC4JPQAAAIBc0t4CAABAEdWkumSt7/JpjqMDAAAAyCWhBwAAAJBL2lsAAAAomkIhiUKh9CuqLH7gT7Hk13+KhmUrSz4WlUvoQcsltVlXAJSY5RQrVMavz4m/D1vF71v6POZQmTqPOCg6jzgo6ua8FC8c//Wsy6FMCT2qQJLUlPSPeaHQWLJ9A1QtgUXF8gF663jcSJtjDqqD0AMAAICiWdvekl6olEYrDZVLvAkAAADkktADAAAAyCXtLQAAABRNWqu3vHc82BgzPQAAAIBcEnoAAAAAuaS9pQo8unJ5tK2piQFt2saANm2zLgcAAMiROXVLYm7d0ljWsCYitLdQXoQeVWBoh21ip1aeagAAoPgGtd8uBrXfLp6rWxwPLJ6fdTmwDu0tAAAAQC75+h8AAIAiSiIKaX6/rr2FjTPTAwAAAMgloQcAAACQS9pbAAAAKJ5CsvaS5niwEWZ6AAAAALlkpgcAlEpSm3UFVStJfK+zNTxupMnxBqTBKw0AAACQS2Z6AAAAUDyFJArO6UGZMNMDAAAAyCWhBwAAAJBL2lsAAAAonkLN2kua48FGCD0AAACoOEt/88dY+pvHomH5yqxLoYwJPQAAAKg42370kNj2o4fEqrkvxkufOS/rcihTQg8AAACKpxDprqhSSG8oKo/mJwAAACCXhB4AAABALmlvAQAAoIiSdNtbIs2xqDRmegAAAAC5JPQAAAAAckl7CwAAAMVTSLm9JdVWGiqN0AOgQiSJyXmpS2qzrqCqOea3kuOWLeD3rPokJZzsX8p9w9YSetBi/lgCJVXBH+CSCq69pfxt2EpVfMxUNM8bQNkSegAAAFA8jUkkjSm2nKQ5FhXH1zAAAABALgk9AAAAgFzS3gIAAEDxWL2FMmKmBwAAAJBLQg8AAAAgl7S3AFB6lnOEf/H7AORcEhFJii0nmltojtADAIB8EzQBVC3tLQAAAEAuCT0AAACAXNLeAgAAQPFYspYyYqYHAAAAkEtCDwAAACCXtLcAAABQNEmhJpJCet+vpzkWlUfoAUBpWSqyIiWJN5BbzTG/dTxuVJOWHO+FhuLVAVVA6MFaXniB5lTxh5Gkiu87zXBcbJjHhUpSqcdrpdYNGRF6AAAAUDxWb6GMmLsKAAAA5JLQAwAAAMgl7S0AAAAUTVKISFJoOVn88O9jycOPRsPyFSUfi8ol9KgCj65cHm1ramJAm7YxoE3brMsBAAByZE7dkphbtySWNqxJddzOHzksOn/ksKj7y1/jhdFfTnVsKofQowoM7bBN7NTKUw0AABTfoPbbxaD228VzdYvjV4vnZV0OrMMnYQCALWG5SIBmrW1vSXc82BgnMgUAAABySegBAAAA5JL2FgAAAIooiUhh9ZZ1xoONMNMDAAAAyCUzPQAAAKDCNTQ0xKxZs2LGjBkxe/bseO211+If//hHLF26NOrq6mLNmjXRrl27aN++fXTr1i26d+8effr0ib333jv+4z/+I3r27Jn1XSgJoQcAAADFU0giSbO9JdVWmvJSV1cXd955Z9x///3xu9/9LpYtWxaFQiHe9773xU477dR0adu2bbRq1SpWr14dq1atikWLFsXUqVPjzjvvjJUrV0aSJPH+978/jjzyyDjhhBPigAMOyPquFY3QAwAAACrIvHnz4tvf/nb85Cc/iTZt2sThhx8e48aNi/322y8GDBgQHTt23Ox9vfzyyzF79uz44x//GH/4wx/iBz/4Qey+++5xzjnnxMknnxxJUtmhktCjGiQ1EUltCfdfwn3Dv0kcb1UnSZx+KhN+15qV1+MyqWmddQmkLEmaf84L0dj8/2/mFIEt+b+UUElf3yv7w3ElWL16dVxyySUxfvz4OOqoo+KOO+6Ij3zkI1Fbu/XPa+/evaN3794xYsSIiIiYP39+3HHHHTFu3Li46qqr4n//93/j8MMPL9ZdSJ1XGgAAAIom+Wd7S5qXajB79uzYb7/9YuHChTFz5sz46U9/GsOHD29R4LEh73vf++Kcc86JP//5z/H1r389Tj/99PjKV74Sa9asKeo4aRF6AAAAQBl76KGH4sQTT4zrrrsubrrppujTp0/Jx0ySJP7rv/4rZs2aFR06dIgjjzwyVq5cWfJxi017CwAAAJSpKVOmxPjx42PKlCnRqVOn1Mdv27ZtfOtb34oHH3wwjj322PjNb36Teg0tIfQAAACAMtWnT5/4+c9/XvQ2li115JFHxsCBAzOtYWsIPQAAACieQpLuMrI5P6dHr169si6hya677pp1CVvMOT0AAAAgx7KeJZIlMz0AAIANsqws5EOhUMi6hMwIPQAAoFIl5fvtrcCkeiWFSHUZ2aR6P89vtiTJdwtQc7wSAQAAALlkpgcAAABUkSeeeCKmTp0aH/jAB+Koo46KiIiXXnopnnjiidhll11iyJAhGVdYPGZ6AAAAUDRJJJEUUrxE9bZubI0JEybECSecEE888UR85zvfiSFDhsTChQtj1113jQMOOCA+/OEPZ11iUZnpAQAAAFVi6tSp8ec//znatWsXEREzZsyIc845J6666qro0KFD7k56aqYHAAAAVIl99tmnKfB4998TJ06MG264IV5++eXcnfRU6AEAAEDRpNra8s8Lm69Pnz4xadKk6NWrV8yePTsiItq2bRsXX3xxzJw5M3ehh/YWAID3SBLfCVWlMl76FYqplK9xlimuDMcdd1y8+OKL8X//938xYMCAdW475ZRTYtCgQRlVVhpCDwAgd6o2uKjkD+6VXDtAhenbt2/07dt3g7c1t3LL888/H/379y9VWSVRpe8IAAAAKIlCkv6FVHz1q1/NuoQtZqYHAAAAEBERs2fPjrFjx8YLL7wQDQ0NTdcXCoV49dVXM6xs6wg9AAAAoIzdc889seeee8Zuu+22wdtfeeWVSJIkdtlllxaPdfbZZ8ehhx4a//Vf/xU1Nf9qDmlsbIxvfvObLd5/2oQeAAAAFE1SWHtJc7y8u+GGG+Lb3/72Bm/78Y9/HGeddVZ069Ytbr311th///1bNNbhhx8e//3f/73B21577bUW7TsLzukBAAAAZezAAw+Mp59+OkaOHBm33XbbOrd985vfjJ/85Ccxffr0mDhxYovHeu/sjn83bNiwFu8/bUIPAAAAKGPvvPNOTJo0Kdq3bx/f/OY348EHH4yItefZeOGFF+Kggw6KbbbZJrp3797isUaMGBHf+973Njir4+tf/3qL95827S0AAAAUTyGJJM0VVapg9ZaGhoZ4/PHHIyJi9erVcemll8aRRx4Zb731VhQKhejcuXNERLRv377FYy1atCgmTJgQF1xwQYv3VQ6EHgAAAFDGtttuu6af27ZtGx07doyIiPr6+nW2e+9qK1vriiuuiIsvvjh69eq13olMv/zlL7d4/2kTegAAAEAZe/HFF+Piiy+OXXbZJaZOnRoHHnhgRET84Q9/iEKhEPPmzYsePXrEiy++2OKxhg4dGieddNIGbxN6AAAAQBW0nKTp29/+dnz2s5+NH/zgB/HZz342amtr45RTTomGhoZ45JFH4oQTToju3bvHiBEjSlpHt27dSrr/UhB6AAAAQBnr1q1bTJ48eZ3rTjnllKafv/Od78SLL74YJ554YovH+tSnPhWXXHJJfOQjH4levXo1XV8oFOKKK66IT3ziEy0eI01CDwAAAKhgBx98cBx88MFF2degQYNi5cqVcdlll0WS/GvGTqFQWOfflULoAQAAAERExG677Ra33nrrOidPjVh7ItMTTjgho6q2ntADAACAoklSXrI21eVxq8Cll14ae+211wZv++///u+Uq2k5oQewxZKkNusSSFmS1Gx6I9ZXwb8rnvM8w9+FAAAgAElEQVQSquDjoqJrL6EkKvj3xXNafUr5nPvbkQvHHHNMrFy5Mjp06NB03auvvhqdO3eOY445JsPKto7QA2AL+CCYEW/KqSSVfLxWcu0tUNGhBVSxRY8+HG9NeTjqVyzPupRc+dGPfhSjR4+OcePGxbnnnhsREe3bt4/vfve7ceyxx8YHP/jBjCvcMl7hAQAAKJqkMUnlssOH/zP6f/2K6D36rKzvcq789a9/jUmTJsWoUaOartthhx3im9/8ZvziF7/IsLKtY6YHAAAAEBFrT1j6uc99boO31dfXp1xNywk9qsCjK5dF2ySJAW3axYC27bMuBwAAyJE5K9+KOSvfimX172RdCkXw8ssvb/D6VatWxZw5c1KupuWEHlVgaIdOsVOr1lmXAQAA5NCgDl1jUIeu8dyKRfHLt1+KKMTaS1rSHKsKDBs2LIYMGRJf+tKX4v3vf3+0a9cuZs6cGd///vfjtNNOy7q8LSb0AAAAACIi4otf/GIsWLAgRo8eHWvWrImIiNatW8eFF14YY8aMybi6LSf0AAAAgBwrFLZsOszXvva1OO200+Kxxx6LxsbGGDx4cHTr1q1E1ZWW0AMAgNyzLC2kJ4kkkkKS6nh59vvf/z769+8fPXr02Op9NDY2bvH/6dq1axx99NHrXHf77bfHpz71qa2uIwte/QEAAKBM7brrrjFq1Kh4+umnM6uhUCjEeeedF3Pnzs2shq0l9AAAAIAy1adPn/jZz34WJ510UlxyySVN59lIy+zZs2Pw4MGx/fbbx2WXXZbq2MUg9AAAAKBokkKS+iXvevfuHU888UT8/e9/j0GDBsXEiRNLHn688MILMXr06BgxYkRceumlceGFF5Z0vFIRegAAAECZ69ixY/zoRz+Ka665Jq699tro3bt3nHPOOfHkk08WbYxly5bFj3/84xgxYkTsvffe0alTp3j66afjiCOOKNoYaXMiUwAAAKgQI0aMiI997GNx9913xw033BCDBw+O7bbbLg4++OA44IADYuDAgdG/f//o3r17dO3adYP7WLNmTSxYsCBeeeWVmDt3bjz77LPx2GOPxYwZM6Jr165x8sknx3XXXRe9e/dO+d4Vn9ADAACA4km75aQK2lv+XZIkcfzxx8fxxx8fL7/8cvzyl7+MyZMnx/e///146623IknWPia1tbXRsWPHaNeuXdTW1sY777wTq1atihUrVkTE2hOU1tbWxsCBA2PYsGFx+eWXx7Bhw6J169ZZ3r2iEnoAAFDxLEkLVKvevXvHmWeeGWeeeWZERLz66qvx3HPPxSuvvBLz5s2LpUuXRl1dXdTX10e7du2iQ4cO0a1bt+jZs2f069cv9txzz2jXrl3G96J0hB4AmylJvKHORFKbdQVUoio+bir1taqqQ4sMj9dKPV6Ajdtll11il112ybqMsiH0AAAAoHgKkW7LSSG9oag8ol0AAAAgl4QeAAAAQC5pbwEAAKBoksLaS5rjwcaY6QEAAADkktADAAAAyCWhBwAAZKWKl1cGSINzegAAkIqkGr9vE2pQlZJ0l6yNNMei0lThXx4AAACgGgg9AAAAgFzS3gIAAEDRJIUkkhTbW9Ici8pjpgcAAACQS0IPAAAAIJe0twAAAFA02lsoJ0IPqEBJFS9/lyQmqGWiio85WsBxs1Uq9XWuopejreZjdVP3vdCQTh2kpqSvMYnwgfIj9KgCSVJT0g/JhQz/GFbzh/8sVeob8orneK8qmf+eOd62WubPXQtUbHBR4cdrWR8z5frYVnoYU66PK+SQ0AMAAIDiKfzzkuZ4sBFlHCsDAAAAm+vcc8/NuoSyI/QAAACAHLj++uvj9ddfz7qMsiL0AAAAoGjeXb0lzQtr1dXVxaGHHhp33313NDRU+LlvikToAQAAADnQtm3buPDCC+Oll16Kww47LP7nf/4nXnrppazLypQTmQIAAEAO3HzzzXHCCSdERMTYsWPjkUceia997WuxYsWK+PznPx9HH3101NZW1+pBQg8AAMpfBS/xWdZL0laqpLbyl63NOS0n2Xg38HjXsGHDYtiwYbFgwYK4+eabY6+99orjjjsuRo8eHb169cqoynR5BQYAAICcWrFiRdx3331x1113xdy5c+Pyyy+PQw45JI455pi4//77sy6v5IQeAAAAkANf+cpXmn6eNWtWnH766dG9e/cYM2ZMzJw5M4455ph48MEH46WXXooJEybEM888E8OGDYuHH344w6pLS3sLAAAAxVNI1l7SHI+IiJg4cWL06tUr7rzzzpg2bVoUCoXo2bNnnHvuuTF69Ojo3r1707bdu3ePb3zjG7Fs2bIYPXp0LFmyJI477rgMqy8NoQcAAADkwPLly2Ps2LGRJEl89KMfjTFjxsSIESOipmbjTR6dOnWKW2+9NQ4//HChBwAAAFC+zj777DjnnHM260SlK1eujPPPPz+GDBkSrVrlMx7I570CAAAgE0ljEkljei0naY5V7gYMGBBXX331Zm//xBNPxHXXXReTJk2K008/vYSVZUfoAQAAADlw/vnnb9H2Q4cOjQkTJsT2228fo0aNKlFV2RJ6AFSCpDbrCqpWkljorNpU9HOe9WtF1uNvpbJ/zkv4uGZ53wuFxpbtoEKPNyilk08+eYu2r6mpidNOO600xZQJoQfAlmjJG6xCQ/HqIBVl/0GIrea5paxVyYf5Tf0etjgUoTSae968tpatp556KlavXh3du3ePvn37Zl1OqoQeAAAAFE1SSCJJcRnZNMcqd1/84hdj4sSJ613/xBNPxKJFi2LevHkxb968uPrqq2PAgAEZVJg+oUcV+P2KpdE2SWJA2/YxsG2HrMsBAABy5LkVC2POykWxrP6drEupei+++OIGr//yl7/c9PPixYvjU5/6VDz44INplZUpoUcVOKzjtrFTqzZZlwEAwIZUSTsL+bV7xx1i9447xOwVC+OXi17IupyqliSbnvWy3Xbbxeuvv55CNeVB6AEAAEDRJBGRFNIdrxrNnDkzZs6cuc51r7/+etx2221RKKz/BBQKhXjzzTfj3nvvja5du6ZVZuaEHgAAAFBh6uvr46WXXorHHnssfve73zVd39wKLoVCIXbYYYd4+OGHU6iwPAg9AAAAoMLsu+++se+++0ZExNy5c+O4446LVatWxUknnbTB7WtqaqJ3795x1FFHmekBAAB5UrbLFDufx0ZZ0raCFZK1lzTHq3IDBw6MSZMmxde+9rX4xje+kXU5ZaWqQo9Vq1bFP/7xj1iyZEnU1dVFx44do1u3bvG+970v69IAAABgq+23337xiU98Iusyyk6uQ49Vq1bFgw8+GPfee288+eST8cILL0Rj4/qJcLt27eJDH/pQHHbYYfHJT34yBg0alEG1AAAAsHVqa2vjrLPO2qxtp0+fHh/60IdKXFF5yGXosWTJkrj66qvj2muvjYaGhth///3j6KOPjj59+sT73ve+6NChQ7Ru3TpWrlwZS5YsiVdffTXmzJkTd955Z1x22WUxZMiQuOiii2L48OFZ3xUAAICKkhQikhRbTtJcKSYvxowZE9OnT8+6jFTkLvR44IEH4otf/GIMHjw4br/99hg2bFi0adNms///K6+8ErfffnuMGTMm9tlnn7jxxhtjxx13LGHFAABUFefxAFroT3/6U9x5550xZsyY+MAHPhAREYsXL45rr712k/932bJl6y11m2e5Cj0uvvjieOyxx+Khhx6KPffcc6v20atXr7jgggvi3HPPjfHjx8ewYcPijjvu0PICAABAWfjEJz4Rb775Zjz99NMxZcqUiIhoaGiISy65JJIkiUKh+ekvSVI9J3/NTegxbty4qK2tjd/97ndFeQJbtWoVZ599dowYMSK+9KUvxY033hh9+vQpQqUAAAA5VkhSbW/Z2tVbHn300Vi2bFl8/OMfL3JB61q5cmVcdNFF8Ytf/CKWLFkSBx54YFxzzTVNMzS2xiGHHBI///nP45BDDmm6rkuXLpEkSZx33nlxxBFHRG3thmeVLV68OD7zmc9s9diVJjehx/vf//447rjjir7f3XbbLe66666YMWOG0APKRUumBRcashm3GP+fLVa2S1RSchX93Ffqa0XGdZfVc17Gz+F6j9OWPm5ltEzsv98XS9hupnL6XcnIM888ExdeeGE89NBDcckllzQberz44otx6aWXxuzZs6Ndu3axevXqGDNmTIwePXqzxxszZkz069cvrrnmmnjqqafiqquuiv/8z/+M2bNnx7bbbrtV9+Guu+6Kt956K7p27dp0XU1NTXTu3Dkuuuii2GabbZr9/7vvvvtWjVuJchN6lCLweFfnzp1j6NChJdt/pUvK+A97nmX65q6Sn/NKrj1DZfVhgqpQ0cdcJb/OZFh75s95Nd/3LVFOtf5byFFRjyOZWLJkSdx0003xxhtvxJNPPrnJDoEZM2bE0KFDY+TIkTFt2rSora2Nxx9/PIYPHx7Tp0+P66+/fpNjPvfcc/HBD34wvvKVr0RExMiRI6Nr165x/vnnx+TJk2PUqFFbfX/eG3i864UXXthk4BER8dOf/nSrx600VfPK0NjYGIsXL17v+hdeeCH+9re/ZVARAABA/iT/bG9J87I5tttuuxg7dmxceeWVceSRRza77dKlS+Poo4+O1q1bx/jx45taRQYPHhznnXde3HjjjXHrrbducszly5fHGWecsc51w4cPj0KhEEuWLNmsurfEr3/967j11lvj1ltvjWnTpkVExBtvvBHHHHNMbLPNNrHrrrvGD37wg+jXr1/Rxy5XVRF6vPrqq9GvX7/Ycccd45577lnntvbt28cVV1wR//M//5NRdQAAAKSpXbt2zd4+YcKEeO211+L444+Pjh07rnPbF77whYiIuOiii6KhofnW6QMOOGC91URXrVoVSZLE4MGDt6Ly5j3zzDNx+umnx7PPPhtr1qyJxsbG+NjHPhaTJ0+Ob3zjG/G9730vfvKTn6z3uTjPqiL0uPLKK6N3797R0NAQb7/99jq3de/ePW666abYcccdNyupAwAAIN8mTpwYSZLEoYceut5tPXv2jL59+8a8efPi4Ycf3uJ9P/LII3HkkUfGwIEDi1HqOlq1ahW//e1v48orr4whQ4bEfffdF88880x8/etfj/POOy9GjRoV9913X4wfP77oY5erqgg9/vznP8fkyZPj6aefbkrl/t3ZZ58dd911V8qVAQAA5EwhiWhM8VLklWIWLlzYdAqEQYMGbXCbPfbYIyIiJk+evEX7XrFiRdxxxx1x3XXXtazIjZg2bVoMGTKk6d+//e1vI0mSOPHEE5uu22mnnUoydrmqitCjoaEh2rRpE/vss89Gt0mSJFauXJliVQAAAJSb5557runnHj16bHCb7t27R6FQiNmzZ0fE2hODdurUqemy5557bvD/nX/++XHNNddEr169il94rD2X5XvNmDEjunXrFj179lzn+hUrVpRk/HKUm9VbmrN8+fJNbrNq1ap44403UqgGAACAcvXWW281/dypU6cNbvPuUrMLFiyIiIhjjjkmDjzwwKbbW7duvd7/ueqqq+KjH/1oHHLIIcUsdx1r1qyJhoaGqK2tjYULF8bTTz8dn/zkJ9fZ5q9//WvsvPPOJauh3FTFTI9+/frFFVdc0ew2Y8eOraq1igEAAEqhXFdv2Vzv7QDYUHgREdG2bduI+NeMiY4dO0bfvn2bLrvssss62998882x8847x8c//vGm61asWBGvvPJKUWsfPnx4jB07Np599tk49dRTo6GhYZ3WltmzZ8fxxx8f3/rWt4o6bjmripkeF1xwQRxwwAHx2GOPxcknnxz77LNPdOnSJRYvXhxPPvlkXHfddTFt2rR4/PHHsy4VAIAqkiTl9R1kErXN3l6I5leqSNW/P3aFxg1vB1uoffv2TT/X19dHq1brf2xes2ZNRER06NBhk/u755574he/+EWcfPLJ8fOf/zwi1nYj3HfffXH77bcXqeq1Lrjggvj0pz8de++9d7Ru3TouvvjiOOKII+L555+Pk08+OZ588skoFApx/vnnx69+9auijl2uqiL02HvvveOmm26KU045JX7961+vd3tNTU1MmDAh9t133wyqAwCAbGwq5Ghu+7IKQKCI3tv6sXz58ujcufN627x7CoVNnRR06tSp8elPfzreeeed9T6Lnn766U0zRoqlTZs2cffdd8eyZcuipqamabndvn37rhOw/PsyunlWFaFHRMTnPve52GOPPeKyyy6LBx98MN55552ora2Nww8/PL7xjW/EQQcdlHWJAACQjiLMMEmiVvBB6uY/+UC8Pm1teLD67Tdi9eI3orGhvqhjDBw4MJJkbcvM/PnzNxh6zJ8/P5Ik2eQpEoYMGRJ1dXVFrW9z/Pu5SFq1ahW9e/du+vddd90Vxx9/fNplZaJqQo+IiA9+8INxzz33RKFQiDfffDO23377qK3dsnQbAABaIvWWlhKOV1YzP957P7W6ZCopRNHPs/Gu7vsfFd33P2qd65a+/Fw8cfmooo3RpUuX2GuvvWLWrFkxZ86cGDhw4HrbvLvCy2GHHVa0cdP0ne98R+iRZ0mSRJcuXQQeAADkW4oBS1kFINBCJ5xwQsycOTP++Mc/xnHHHbfObQsWLIjnn38+unbtGkcccURGFW7cm2++GZMnT46XX3456uvXnwWzdOnSePbZZzOoLBtVFXrMmjUrrrjiinjwwQdjyZIlsf3228cxxxwTX/va16Jv375ZlwcAALmg9YVy927LSWPjhmcFnXrqqXH11VfHHXfcEePGjYt27do13TZp0qQoFAoxduzYop+To6WefPLJ+NjHPhaLFy+OQqGw0e3ebd+pBlUTetxyyy0xZsyYeOedd5quW7hwYUycODHuuuuuuPvuu+MjH/lIhhUCAABUvlIsI7up8bbEokWL4rHHHotCoRBTp06NhoaG9boAunTpErfddlsce+yxceaZZ8b1118frVq1iqeeeirGjRsXI0aMiPPPP7+Yd6MoLrzwwujXr18ce+yx0a1btw12NyxZsiQuuOCCDKrLRlWEHtOmTYtTTz01evbsGaeddlp8+MMfju233z5effXVmDp1alx33XXxyU9+MmbMmBG9evXKulwAyIVyW4qzGiSR7WOe6XOeZNe2XNL7XcG/R1u6MsyGbPVskVI/bhV8zpBiPC8b33d5zx5obGyMAw44IP7yl7/EihUrIkmSeOSRR6JHjx4xZMiQpuVk33XEEUfEE088Ed/61rfioIMOivbt28fKlSvj8ssvjzPOOKMsZ0u8+eabMXPmzE2eyuHHP/5xShVlrypCj29/+9tx3HHHxS233LLO9KP+/fvH4YcfHmeffXaMGjUqvve978W1116bYaUAANkp66Aqr6FGRPkGG1taVwmCgOY+oGfaPlOuzxnNqqmpiaeeemqL/s8ee+yxzlKv5a5Pnz6bde7K8ePHp1BNeaiK39bnn39+vcDjvbbbbru44447YsqUKSlXBgAAZSSp+dcFtlrS1OKSxiXKfIZJmnbbbbd4+eWXN7ldNZ3ItCpezXbeeedNnmCma9euG1x/GQAA2AyCEsjcJZdcEhdddFE8/fTTzW53zTXXpFRR9qqivWXbbbfd4Mlp3qtQKERNzfov1I8++mgMHTq0hNUBAEA61msXKXZQkdRU9PkuoNL98Ic/jH79+sVRRx0VPXv2jP79+0ebNm3W2WbZsmXx3HPPZVRh+qoi9DjxxBNj/PjxcdZZZ210mxtuuCFGjRq13vVf/epXN5mSAQBAOSvlySvXHyyd4OO998nyuOUlaVx7SXM81vrud78bCxcujEKhEK+//npMnz59g9uV40lYS6UqQo8VK1bELbfcEm+//Xb06dNnvdvnzJkT999/f1xwwQVx6623Nl2/cOHCmD17dpqlbtSLL74Yl156acyePTvatWsXq1evjjFjxsTo0aOzLg0AgDKWauDRNKgZH5TeP576Vcx/6lexpm5Z1qWUjR133DEGDx4cZ555ZrRqteGP+0uWLInPfOYzKVeWnaoIPc4555xYvHhxzJgxY4OJVqFQiIiIL3zhC+tdXw4J2IwZM2Lo0KExcuTImDZtWtTW1sbjjz8ew4cPj+nTp8f111+fdYkAAJShTAIPSEn3/Y6K7vsdFUteeS4e/86xWZdTFrp16xZnnHFGHH744c1ut/vuu6dUUfaqIvTYfvvto3///jF8+PAtCjHefvvt+L//+78SVrZpS5cujaOPPjpat24d48ePbzovyeDBg+O8886LSy65JAYPHhwnnnhipnUCALAVinxOjWoNOZKo1eJSRv61qkp647HWTTfdFDvttNMmt3tvh0PeVU3o8f3vfz8OPPDALf6/jz76aPEL2gITJkyI1157LcaMGRMdO3Zc57YvfOELTWfn/cxnPrNZ6zEDALC+JM2VR6pllRMtLpC6fv36RUTE6tWr409/+lPU1dXFkUceGRERs2bNil122SW6dOkS/fv3z7LMVFXFK+5ll10WgwYN2qr/e8UVVxS5mi0zceLESJIkDj300PVu69mzZ/Tt2zfmzZsXDz/8cAbVAQAAUE5uueWW6NGjRxx++OFxxhlnNF2/atWq+PznPx8/+tGPMqwufVURenTv3j223XbbTW538sknr3fd8OHDS1DR5lm4cGH87W9/i4jYaGizxx57RETE5MmTU6sLAABgY95tb0nzwloPPPBAjB49OoYMGRJXX3117LDDDk237b///nHvvffGzJkz43e/+12GVaarKkKPDS1F++8WL14c9913XwrVbL73rp3co0ePDW7TvXv3KBQKZbPKDAAA6Umidp0LUN2uvPLKuO222+K+++6Ls88+O7bZZpv1thk3blyMHz8+g+qyURWhx1/+8pdmQ4Hnn38+hg4dGkuXLk2xqk176623mn7u1KnTBrd5dwbLggULUqkJAACA8rRixYr41Kc+1ew2bdq0ibq6upQqyl5VhB4REaeffno0NKx/Rufvf//78cEPfjBmzZqVQVXNW7lyZdPPrVu33uA2bdu2jYi1BzcAAEDWkki5xSXrO1xGOnfuvFnbLVq0qMSVlI+qCD2SJIk333wzTj311KbrXnjhhTjkkENi7Nix0aNHj5gwYcI6/U7loH379k0/19fXb3CbNWvWREREhw4dUqkJAACA8tTY2Nh0XsiIiEKhsN42119/ffTu3TvNsjJVFaHHzTffHHPnzo3+/fvHhRdeGNdee23svffe8fjjj8dZZ50Vs2bNitNOOy2mT5+edanr2HnnnZt+Xr58+Qa3eff6zVmLGQAAgPw644wzYtiwYfGzn/0s6urqIknWzoN566234te//nWMGjUqzjrrrDjvvPMyrjQ9rbIuIA0nnnhiRERccMEFcf7558c555wT/fr1i5tvvjkOPvjgpu0WLlwYu+yyS1ZlrmfgwIFNB+n8+fM3OFVp/vz5kSRJ7L777hvdz6MrlkbbmnXzrQFtO8TAtsWZHVLIcP31pFrWud+QpDJPVlbVz1nWKvSYYetl+vtWxcdb0tLvlLJ87DJ+3rI9Zks3dtFOMFqCGpNSP+eb2H+hsH77+VYPleb3uRm+/22xFh5H7x4zzy1fEM+tWPe8gkvrV6/9oTGJpDHFppM0xypzxx57bEyZMiU+/elPR01NTdTU1ESHDh1i9erVTdtcddVVsf/++2dYZbqqIvR4r+9+97uxcOHC2HfffdcJPCIiTjvttJg2bVpGla2vS5cusddee8WsWbNizpw5MXDgwPW2eXeFl8MOO2yj+zlsm86xU6s2JasTAACoLrtv0y1236bbOtc9u/yNuH/hnzOqiHf97//+b+y7775x+eWXx9/+9remUyXsvffe8a1vfSs+9rGPZVxhunITetTV1cVdd921WdsefPDB8f/Zu/N4Oao6///vU3X7LllJIIuEJSwCgbDJosLXDSZhU1BABNQAijgYHWUAUdFxVDbZFEYUiTJAcEF/AgEBRWFAUDEouwwwgBESIAkk5CZ3v13n90ff7tv7Xlv36/l49CNJdy2nq6s7Xe8+53O+/vWvy3GczFim9evX68knn/SziXU5/vjj9fjjj+uBBx7QMccck/PYmjVr9Nxzz2n69OlauHBhSC0EAACA7+gpCRRY9bfbtOpvv9bIQLRm4YyCRYsWadGiRVqxYoVWr16tOXPmaKuttgq7WaFomdBjZGREJ598cmY4SCnWWhljZK3V4sWLM8un74+a0047TZdffrluuukmXXTRReru7s48du2118paq7POOisziwsAAAAAtIM5+xypOfscqTdffkoPXHJU2M2JpLlz52ru3LlhNyNULRN6TJkyRa7r6rjjjtOCBQtqDjA2bNigc845x6fW1W/atGlaunSpjj76aH32s5/V1VdfrY6ODj388MO66KKLdMQRR+iLX/xi2M0EAACAX+jlgZhJTyUb5P6QKlZ6zz336PHHH9cbb7yhyZMn661vfasWLFjQ1sFHy4QeUiogWLJkSd3Tty5durTJLWqOhQsX6qGHHtL555+vd77znerp6VF/f7/OO++8nN4qAAAAAID28s9//lNf/epX9ctf/lIjIyNFlzn88MN10UUXlZ0Ao1W1VOhxww031B14SKkqtlE1f/58/exnPwu7GQAAAACAiPjlL3+pU089VRs3biy73B133KF77rlHV111lU455ZSAWhcNLdVX7tBDD21o/Xe/+91NagkAAAAAtJZqpzhOD28J8taObrnlFp144okyxuiMM87Qb3/7W61YsUIbN27U6Oio+vv79corr+iBBx7Q1772NU2dOlWf+tSn9POf/zzspgeqJXp6bNiwQVOnTo3t9gEAAIB2VO4i2tpkgC2pUYzrrFQbXCDa1qxZo0996lM66KCDdOONN2rGjBkFy3R3d2v27NmaPXu2DjzwQJ111lk6+eST9ZnPfO6kLxkAACAASURBVEbve9/7NGvWrBBaHrz4vluz/O53v9N//Md/+LLtJ598Up/85Cd92TYAAAAAALX64Q9/qO2331533nln0cCjmMmTJ+sXv/iFdtllF/3gBz/wuYXR0RKhx7HHHqspU6bogx/8oF5//fWmbfeaa67Rpz/9aV1zzTVN2yYAAAAAtDJjjYwX4K0Nh7fccsst+s53viPXra3njuu6uuSSS7Rs2TKfWhY9LRF6SNJZZ52l4447Tnvuuae+9a1vae3atXVtx1qrZcuWab/99tOdd96p3/72t5o+fXqTWwsAAAAAQH36+/t14IEH1rXugQceqIGBgSa3KLpaoqZH2oknnqgDDzxQZ5xxhrbZZhsddNBBWrBggfbdd1/tsssumj59uhwnN+cZHBzUP/7xDz366KO6//779etf/1rd3d264IIL9JGPfCSkZwIAAAAAQHGN/jC/+eabN6kl0ddSoYckbbvttrr55pv15JNPasmSJbr44ov12muvyZhUl6dJkyZp6tSp8jxPfX196u3tlSQlEgktWLBAl19+uY499tiauwkBAAAAACRjJSfAISfGBraryOju7m5o/a6uria1JPpaLvRI23333XXllVfqyiuv1LPPPqu//vWvevHFF7V27Vr19/ers7NTU6dO1dy5c7Xbbrtpv/32a6sXHgAAADFhvVjPFgIAYWrZ0CPbzjvvrJ133jnsZrQsw3/CQPQxPV0shfr52sbnjGmdkmexEu753tx9GzXx/dPG37NiO50tEIDh4eFQ14+Ttgg9ADQXQVcD2vhCMiycr+0p1OAi5Pc553wRPh+ThkMOXrOalQtEghDl0KXisfH1fEsNaTE2mBlVXn50mV5+dJlGBnt931fULF++XP/6r/+qCRMm1Lzu0NCQHnnkER9aFU2EHgAAAACA2Nl676O09d5Haf3KJ3Xvd48IuzmBGh0d1ZIlS+pa11qbqXnZDgg9AAAAAACImYULF2r27Nk1r/fqq6/qd7/7nQ8tiiZCDwAAAABA0xjPkfGCG7YV5L6iYubMmbrrrrvqWtfzPG255ZZNblF0td/ZAQAAAESJ9VI3AKjSdtttV/e6juM0tH7cEHoAAAAAABAj119/fajrxwnDWwAAAIAosB4zuaAlGAUze0v2/trNTjvtFOr6cULoAQAAAEQBgUdshD1lLoDqEXoAAAAg/uIcGMS57QAQcYQeAAAAAICmMZ7keAEOb6EOMMogVgYAAAAAAC2Jnh4AAABAmLKnq2WoCwA0FZ+qAAAAQFRY+ukDQDMRegAAAAAAmsZYE/gN1du4caOefvrpsJsRGEIPAAAAAADaxCOPPKLPfvazYTcjMG1R02OnnXbS9773PS1cuDDn/k9/+tN65plnNDQ0pBkzZmjWrFn60Y9+FFIrgRowN3w42vi4G8aYow4mzr+thPh+j+v7La7troaRz+eDj8fOVDqXo/y6tfJQnxCPu5/nc6w/92NkYGBAv/zlL+taN5lM6oYbbtDrr7/e5FZFV1uEHs8//7wOP/xwnXHGGbrwwgvV0ZF62j/84Q8lSa+88ooWL16s//7v/yb0AFpdGwcXQC3a+osrnxPx04QLSN+DjZydhRhyxEmjx6lcaBLlsKcFGGtkApiydsXjt+ilJ2/R8GCv7/uKkpGREZ188skypvAYW2uL3p+/zIwZM/xqXuS0Regxb948TZo0SZdddpnuu+8+/fznP9cOO+yQeXzLLbfUT37yE73lLW8JsZUAAAAAgGrN3fNDmrvnh7TulSf02+8vrLxCi5gyZYpc19Vxxx2nBQsW5IQc1lqdf/75es973qOtt966YN2//e1vevnll3XssccG2eRQtUXoMWvWLN199936yle+ossuu0x77723vve972nRokWZZSZMmKA99tgjxFYCAAAAAFDZtGnTdM0112jixIk5919zzTX65Cc/qS996Usl1z3jjDP0nve8x+8mRkZb9Ouy1qqjo0MXX3yx7rrrLk2YMEGnnHKKPvaxj2njxo2Z5aZOnRpiKwEAANAWrDd+a/ambTLnBoTBsSbwW7tZsmRJQeAhST/5yU/0xS9+sey65513nr7zne/41bTIaYvQo6+vL/P3hQsX6oknntCCBQv005/+VHvvvbeWL18uSRXHPgEAAAAAELajjjqq5GOOU/4yf+LEiXrzzTeb3aTIaovQ49lnn80JPmbOnKnf/OY3uvjii/Xyyy/rXe96ly688EJZa0NsJQAAAAAA9evr61MyWb6Xl7VWvb3tU/y1LUKPjRs36txzz9Xo6GjO/WeddZb++Mc/apttttG5556r3/zmNyG1EAAAAABahJeavSWomwKYKSYu3va2t+mb3/xm2WWuuuqqokVOW1VbhB7bbLONli1bpv3220/HH3+8nnnmmcxj++67rx599FF99KMfpacHAAAA0CqMU/oGtKgzzzxTl156qY444gjdfPPN+sc//qE333xTq1ev1r333qtTTjlFZ555pr785S+H3dTAtMXsLStWrCj7+KRJk7R06VKdfvrpwTQIAAAAAIAm23nnnfWjH/1Ip5xyStGRDI7j6KqrrtJ+++0XQuvCQcyZ5YADDgi7CQAAAAAQa44NegaXsJ9xtJxwwgl64IEHdNhhh8l1XVlr5bquDj30UP3hD3/QaaedFnYTA9UWPT0AAAAAAGgX++23n37961/L8zytXbtWW2yxhVzXDbtZoaCnBwAAAAAALWRoaEj33Xeffvvb32rWrFlyXVdPPPGE1q9fH3bTAkfoAQAAAABoGmODnb3FWGZvyXbddddpzpw5Ovjgg7V48eLM/YODgzrllFN0/fXXh9i64BF6tIH/2fSmbul9Xf871B92UwAAAAC0mKc2vaabVj+mv2z4Z9hNaXt33HGHTj31VB144IG6/PLLtcUWW2Qe23///XXrrbfq8ccf1z333BNiK4NFTY828L5Jm2lWR2fYzUAxpj3H1QGA7/h8rYsJeyrPsPcPoC7zJ83W/Emz9eTGV7Xs9b+H3Zy2dskll2jp0qU64YQTJEnLli0rWOaiiy7S8ccfr4MPPjjo5oWC0ANoBF+qw8FxR7to53M95Oce+sV/veJ8zvh8zI18PDYhni8mzq95Bb6+Zu3Mz/N1bNvGM3K84IacmAD3FXV9fX2ZwKOUzs5ODQwMBNSi8MX0f3QAAAAAAJBts802q2q5N954w+eWRAehBwAAAAAALcDzPD3//POZf1trC5a5+uqrte222wbZrFAxvAUAAAAA0DTGpm5B7g8pixcv1kEHHaSLL75YRx11lIxJDf1Zt26dHnroIV177bW67bbb9OCDD4bc0uAQegAAAAAAYueFv/9KL/79Zg0Pbgi7KZFx9NFH6/7779eJJ54ox3HkOI4mTJigoaGhzDKXXXaZ9t9//xBbGSyGtwAAAAAAYmeH3Y7RguN+orcvOD/spkTKFVdcoeuuu07bb7+9RkdHNTg4KGut9thjD91+++36whe+EHYTA0VPDwAAAAAAWsiiRYu0aNEirVixQqtXr9acOXO01VZbhd2sUBB6AAAAAAgcU9K2LscGO2WtY5mytpS5c+dq7ty5evjhh7VixQptueWW2n777cNuVqAIPQAAANDSuLgOT6yPvYlwJQDrhd0CRNQnP/lJ/fjHPy64/6GHHtIbb7yhVatWadWqVbr88su1yy67hNDC4BF6AAAAAADQAl588cWi93/uc5/L/P3NN9/UCSecoLvuuiuoZoWK0AMAAAAA0DTGMzIBDm8Jcl9Rl56itpypU6fqtddeC6A10UDoAQAAAABAzDz++ON6/PHHc+577bXXtHTpUllrC5a31mrt2rW69dZbNX369KCaGTpCDwAAAAAAYmZ0dFQrVqzQgw8+qHvuuSdz/8knn1xyHWuttthiC/3+978PoIXRQOgBAAAAAGgaYxXo7C2msFNDW9hnn320zz77SJL+93//V8ccc4wGBwd10kknFV3ecRxtu+22ev/7309PDwAAAAAAEA/z5s3Ttddeqy9/+cv6+te/HnZzIoXQoy04kvFxujCb9G/blfj5vFqcifI0bOXwmtcltq93M3DOhCfEYx/rcz6u52zIx9z3qVFDen4m4PMh1lPMZovzZ0A1Gnh+jZxTNszv/ahov/3204c+9KGwmxE5hB5oXFy/nLWx0C8GOGfqEvrr1ghe8/jhNWtMXI9fqwcXZXce3nP3Ndio8Lza9ZhXEnTYVIswg4dKxyU9c4hjjRwb3PCWIPcVZa7r6t/+7d/keZ56e3u12Wab5Tz+wgsvyFqrHXfcMaQWhiO6nzQAAAAAAKBqL7/8snbYYQfNmDFDt9xyS85jPT09+va3v61zzz03pNaFg9ADAAAAAIAWcMkll2jbbbdVMpnU+vXrcx7bcssttWTJEs2YMUM33HBDSC0MHsNbAAAAALSdKA9hKccYN/K1NYxnZIKcvSXAfUXdM888o7vvvltPP/209tprr6LLfP7zn9eRRx6pRYsWBdy6cBB6AAAAAGgrcQ080sq1P+qBCPyVTCbV2dlZMvCQUrVX+vv7A2xVuBjeAgAAAABAC9i0aVPFZQYHB7V69eoAWhMNhB4AAAAAgKYxVnK84G7Ghv2Mo2OHHXbQt7/97bLLnHXWWdptt90CalH4GN4CAAAAwH8BT1Eb9yEs9cp/3gx3aS/nnHOO3v72t+vBBx/UySefrL322kvTpk3Tm2++qb/85S/6/ve/r+XLl+tPf/pT2E0NDKEHAAAAAH8EHHRkdtumgUcxHIv2sueee2rJkiX61Kc+pTvvvLPgccdx9IMf/ED77LNPCK0LB8NbAAAAAABN43gm8BvGffzjH9ef//xnHXnkkUokErLWynEcLViwQH/4wx906qmnht3EQNHTAwAAAACAFrL33nvrlltukbVWa9eu1eabby7Xbc9eP4QeAAAAAGKHYRt49tlf6rnnfqmhod6wmxJZxhjNnDkz7GaEiuEtAAAAAICmMV4wt13e+mEdecQv9J7/d1HYTzlyhoaGdN999+muu+7K3PfEE09o/fr1IbYqHIQeAAAAAAC0iOuuu05z5szRwQcfrMWLF2fuHxwc1CmnnKLrr78+xNYFj9ADAAAAAIAWcMcdd+jUU0/VgQceqMsvv1xbbLFF5rH9999ft956qx5//HHdc889IbYyWNT0AGLKhDQFXMPaePxtbF8zqa1ftzCZNv5tgvdLnbsO+bgZRfSzwufj4nttiSBf14DPIX+PXYw/RxriVXi80eNSafsI0yWXXKKlS5fqhBNOkCQtW7asYJmLLrpIxx9/vA4++OCgmxcKQg8AAIB8BH3xE+egLEwhHrfmBx6cAyn5x6HZIUXl42xssNPIGsuUtWl9fX2ZwKOUzs5ODQwMBNSi8PHJAAAAAABAC9hss82qWu6NN97wuSXRQegBAAAAAEAL8DxPzz//fObf1tqCZa6++mptu+22QTYrVAxvAQAAABBDzf39NuyaONmsbeaQlOCfV3pK2SD3h5TFixfroIMO0sUXX6yjjjpKxqSG/qxbt04PPfSQrr32Wt1222168MEHQ25pcAg9AAAAAABoAUcffbTuv/9+nXjiiXIcR47jaMKECRoaGsosc9lll2n//fcPsZXBik6cCQAAAAAhiFIvD6BRV1xxha677jptv/32Gh0d1eDgoKy12mOPPXT77bfrC1/4QthNDBQ9PQAAAAAEwvfpfREJjpWcAIecOIVlK9reokWLtGjRIq1YsUKrV6/WnDlztNVWW4XdrFAQegAAAABRFfMeCM0NOZp3LKLes6Nc+5pb76PZon1c29HcuXM1d+7csJsRKkIPAAAAAABiZGRkRE8//bT23HPPnPv/8Ic/1LSd7u5u7brrrpo0aVIzmxcphB4AAAAAWl7Ue3e0EuNJjmcC3V+7OeSQQ3T//ffrE5/4hJYsWZK5/73vfW9mxpZqTZgwQV/5ylf05S9/udnNjARCDwAAAAAAYuSFF16QtVYvvfRSwWMnnHCC3vrWt1a1nf7+fj3zzDO64IILNHXqVH3mM59pdlNDR+gBAAAAoOkar+fRWM+MpvbsaHYBVpuse9X85xXtGh/wy91336077rhDJ554Ys798+fP14033ljz9l599VV98IMfJPRAPP3PpvXqchzt0jVR87onht0cAAAAAC3kqY2r9NSmV7RxdFBSarhJkENO2nF4y84776ydd9654P6PfOQjNW/r+eef16xZszR58uRmNC1yGNjWBt43aZo+NHUmgQcAAABQLeOO3/zadouYP3mOjn/LfnrHZtuH3ZS2d+6559a0/J///Gftsssu2muvveS6rXNOZqOnB4DatdB/0rWgABpqZdr8t4XYvmdC/oyL7XFD/Xx8zY2CO5+bOz1t/ep6D4XV9mL7rXHoS63DXSodH4bLtJdJkyaps7NT69ev1ze+8Y2wm+MLQg+gTrH/UhqRLyb1iP2xD0OcX+82Dw7q1uBrHuv3WZzP95CPe5AXyIU7D++5+36xHuNQw99jE3DNjiY8l3r/T7KqIUio1M4KoUijnyPNCEUcKzkBZieODW5fceF5nm6++Wb96le/0ssvv6wZM2bosMMO06JFi9Td3Z1Zbvfdd9eaNWvU09NDTw8AAAAAaFeE8IiLlStX6sMf/rCWL18ua8cTodtuu01XXHGFli1bph133DFz/6RJk8JoZmAIPQAAAACgjEYDj+z1a+r1AdSor69Phx12mDzP0znnnKNtttlGiURCa9eu1QsvvKDbb79dhx12mB555JGWLVyaj9ADAAAAQOQ1NGyjjqEtfvXsaDgAMW5DU94GgdlbwvNf//Vf2mOPPXTjjTfKGFPwuOd5Ovvss/Xd735XX/va10JoYfDoowUAAACg9dQ4+4qRk3MLQv4+GUKDRi1btkxXXXVV0cBDkhzH0cUXX6x777034JaFh3cVAAAAAAAtoKurS5tttlnZZVzXVUdH+wz6aJ9nCgAAACAi+O21lRlPcrzgplRheMu4wcHBqpYbGhryuSXRwacNAAAAgIA4iuIlSNOGldQwnKahttQ4dAftY+utt9Zdd91Vdpl77rlHs2fPDqhF4YveJw4AAACAUBjj5tyaK8BLjyraXlcdjeywoditmuWq2Q01PlCns88+WyeeeKKuueYavfHGGzmPrVixQpdccomOOeYYnXnmmSG1MHgMbwEAAACAoMRg9hXE1/77769vfvObOv3003X66aerq6tLnZ2d6u/vVzKZOu/OO+88vf3tbw+5pcEh9AAAAACAcqI8jCSCIYqxwdTZeGrFL/TUP/8/DQ1v8H9nMfK5z31Ob33rW/XlL39Zjz/+eKbOx4477qhvfvObOv7440NuYbAIPQAAAAD4qL4hGsbUuF4NwUTVw0b8CjvS260irDByZEWlzmLmzz1O8+cep1fXPaYf/eb/hd2cyEgmkzr00EN16KGHauXKlVq5cqVmzpyp7bffPuymhYJBYgAAAAB8EtPLjaCKhDZrPxQ2xZjLL79cPT09Wrx4sSRpq6220jve8Y62DTwkenoAAAAAQHPk906x7dlDw/FsoFPWBrmvqLviiiuUTCbV29sbdlMiI6bRKwAAAABESLHhOMYpfj/gk7lz52rt2rW64YYbyi532mmnBdSi8NHTow0Y49Q+JrIGNsQE28/n1dJC7vrY1q9bm3Y7Zcq9OrTpuZIR4+cf+mdc2PuPoOZPvZq/g8aOuVF47WvusWnwOIRZw6PabdX7WlfqAZK9/yJ1PrLbX7G+R6XCppWea4U6I6F/xqGsz3/+8/r617+uyy+/XIlEouRyDzzwQICtChehB0LFh2YDYnpB0NaveUxfM4nQom4xfs2bIsbPP7afVWG3O8T9+x5sRFlox73x/db9Xqvi9W5a0CEFe4wrhBZVFTatEKL4xciM7TOY2VsyGN2SMWPGDG211Vbae++9dcABB2j+/PmaOnWqjDGZZVavXq3nnnsuxFYGi9ADAAAAAJrMyJVVicDBOG1b7wP+Ouqoo7RhwwZZa/X0009n7s8OPay1Of9udYQeAAAAAOIj4r16socrlQ0+AB/MmjVLu+22m04++WR1dBS/3N+wYYPOOeecgFsWHkIPAAAAAIHzs4ZHw9uqczhLsfosJYOPFu7tYTwrE+CMKkHuK+pmzpypr3zlKzrkkEPKLrd06dKAWhQ+Qg8AAAAALSX2taiaWdgUbeWiiy7STjvtVHG5yy67LIDWRAOhBwAAAAAALeCd73xnVcu9+93v9rkl0UHoAQAAAAA+aceaHgxvCY7nebr99tv1wgsvaKeddtIRRxzRVkVKq0HoAQAAAFQS9nTAkcFxaKog6npEvPAr6rdy5Uodfvjh+vvf/565b99999Vdd92l6dOnh9iyaOFTCwAAAEAV4nHpUHc9D+OM3xpklczcAD8kk0kdfvjheuqpp2StzdwefvhhfeQjHwm7eZFCTw8AAAAAsReF4qWEHCmOtXICHHLi2PYb3nLDDTdoxYoVuvDCC/Uv//Ivmjp1qtasWaNf/epXuvLKK3XvvffqoIMOCruZkUDoAQAAAABhaNEpa+G/X/ziF/rJT36iD3zgA5n7dtxxRx1wwAGaM2eObrrpJkKPMeHHoQAAAAAiysm6xZxxx29AzK1atSon8Mh26qmn6oknngi4RdFFTw8AAAAA7Y1Ctc3lWRkvwF4sbTh7y+TJk0s+NmXKlABbEn28uwEAAAAgaAxtQQO6urrKPt7T01P28WeeeaaZzYk0Qg8AAAAAANrIJz7xibCbEBiGt6Bhhu6A9QlxPGnor1mbjqWNQlX5urXpa9ao0N9rjWjwNQ/9uYe9/5AYNfhebfC4mTA/Kxpte6PHru4dh33My+/f1/dynW2v6v/TUtuu8vk0+3woOqtLqbbk9wDJfy42d1uVjodVjT1KKr0utvIMNcZamQBnVAlyX1ExPDxc97qe5+mFF15oYmuijdADAAAAAIAYefjhh3X66aeXHMby3HPPadGiRUUfe/XVV/X666/72bxIIfQAAAAA0Doa7OUBxMHIyIiuueaako9ba3XjjTcW3G+MkbVWxhg/mxcphB4AAAAAAMTMwoULNXv27JrXe/XVV/W73/3OhxZFE6EHAAAAADRR0RoebcRYL9Apa00bzoQzc+ZM3XXXXXWt63mettxyyya3KLro4wUAAAAAQIxst912da/rOE5D68cNoQcAAAAAADFy/fXXh7p+nDC8BQAAAADQNMaTjBfglLXtN7pFO+20U6jrxwmhBwAAAOAnZg0Jlk2WnsGl2k0Uqclh5JZ9vLEdtuFVOxAQPoEBAAAAAEBLoqcHAAAAgNaX7k1Bzxv/WS/Y3iv0lEEZhB5t4N5Nb6jLuJrXPVHzuieF3RwAAAAgPNarK/iI0zS0VsGGAE9tXKWnNq5S7+hAoPsFqkHo0QYOmrS5ZiW6wm4GAAAAgHwt0Eth/uQ5mj95jp7sXalb1jwadnOAHIQeAAAAAICmMdaT8YILc0wLBEfwDwPaAAAAAMRGU4ZucJEMtA16egCNaHA6tIZ2HdciXCEeM6BWsX2fSQ2/12L93GMue1rMODFhfr43eL425Zj7+J7x89j6/l5vYttNM3+vjdJnnHGaHsJkH6v8kKjccQy6FggQBEIPtDcuwOvTpsetqV+2EJhYX7y36XtNUrQuSGoU6dCiwnGNc3BRcfN+vi6Nhi5NP+4Bvn/8DGRqfR7t8plpXMn6U1TVyKkcfFRznK0NdsiJtcHtC7ET328UAAAAAAAAZRB6AAAAAACAlsTwFgAAAKBl8JsmwmdsUsanITil9geUwqciAAAAgPizyeprXURp9pZa28IFPlATQg8AAAAAANCSGN4CAAAAoHXYZPvM5BJV1kqe/71pHn3tNj225jYNjG70fV+IL0IPAACAVhLj6X4b4ftUwT4d18anqw349Y7SFLUFG2iToMPHKWvjZu/ZR2rv2Udq5candMXDHwi7OYgoQg8AAACgnAYDj8aDjRBFOeSIswBrihg5sopQDRMgYIQeAAAAAICmMdaTCTLYiVJhWkROG8erAAAAAACgldHTAwAAAED7ye4dEKdaODXW82BoC9pdjN7dAAAAABBzDMUAAkVPDwAAAABA81gv2BlmCJJQBj09AAAAAABAS6KnB+ItxlPAmTiNHW0hbTs9Hu+VcMT4uMdqfHsRRhx7X/jcttBet9CnpPXvuFb8DI3TlLTNbmtY7zXjNNYzwbg19aII9LtPlD+/0LYIPRC+OF8UxFmMj3vbBhcxRnARjlgfd8U4uIjzcQ+x7b6+3nF+TaoQ5nvd1/+T/fz8bfFzInTWC3bICcNbUAbvdgAAAAAA0JIIPQAAAAAAQEtieAsAAACA9mK98Ia4tMFQDGM9mQBnbzFtcExRP3p6AAAAAEBcBDkVLNACCD0AAAAAAEBLYngLAAAAAKCJkgH3SKH3C0oj9AAAAGgTJsZTMFfUYH0Gf49No21rsHN2mecW6jTwQZ+PUZmm1jiN1fUwLkNcgBpE5J0PAAAAAD6JSuABIHD09AAAAAAANI+1wc5SY21w+0LsEHkCAAAAAICWRE8PAAAAAK3NeuEOcWlmrwfqeQA1IfQAAAAAADRRUsHOqEIQhNIY3gIAAAAAAFoSPT0AIC5iOtVkw1Mtoi5xP+5G8TzfoyCq09LymtbHz+lqAxH2/iVmbgHaHKEHGheF/8xCEtuLipBfM9Ouncxi/F6J7bkuxfa4x/qYjwn1IjfGxy+qoYXk82vq42vW/GPavLZGPtSIyvkY4/e0pML2N1Ljw7i+1vUo9z3Nqrp2G+vJBFh7xAQ5UwxiJ+afHgAAAAAAAMURegAAAAAAgJbE8BYAAAC0nCgPaUGV4j6kpZ1ZL9ipdRnegjIIPQAAABB7ka6F0syL9yCfZxD7ItioXZBhAtAC+JQBAAAAAAAtidADAAAAAAC0JIa3AAAAQFLIyxDKkQAAIABJREFU0wxHWsi/EzYwzKTiNPFhDgtiaEt9fJ6ytjmSY7cg9wcUR+iBlAiPgwUAoF34XpcizIvMyF/gNta+hup2NPi6Vww2/BT51xVAuyP0aAP3bnpDXcbVvO6Jmtc9KezmAAAAAGghT21cqac2rlTvyEDYTQEKEHq0gYMmba5Zia6wmwEAAACgBc2fvJXmT95KT/a+rFtW/40paxEphB4AAABAA5o6JW2ctOvzDlvA9TysCBQQb4QeAAAAQEz5Xs+jRYONYkV7LcUwgZZE6AEAAAAAaCJmb0F0tGZ0CwAAAAAA2h49PcB0tXUKffxuTF+3UKfVQ/sJ+X0S+ueEz4p1Dw9u59E9tr5PO1t25/GeutTfY9emU9JW2neI50yonyFFlGtP04e+ZB/3WotwGjfQuh7Z5x/1PRBHhB7twDihf/GPqla/IPFL2wYXMX8fxfZ8j/lxD1UDr3noFyMhn68EFz5tvlVDDamhzypfQw0fhf45EaD859rUEMQ49QUfmcYEG4BUE3xYebIBtoswBuXE9BswAAAAAABAeYQeAAAAAACgJTG8BQAAAGhEnIbhVRjG005DVuAnZm9BdBB6AAAAAHFRa8BCyOELI7f5xU1rEWC9DCDuGN4CAAAAAABaEj09AAAAAADNY23tM9I0uj+gBEIPAAAQjohOo9zK09X6PZQhylPSZgt6elrfp6T187yJ6Pu0Kj5fdGe/nxoe6pJ9nKtpd0hT1gJxROgBAACCF/KFFMFG+2ko6PD7fGlk+1U8r7LnRJxDjUpqDRLiKv/8IQQBchB6AAAAAACaiNlbEB0tHO0CAAAAAIB2Rk8PAAAAoIkaquFRceMNDmdpV8WOWxOHvOQf80Cns2U4C1AWoQcAAAAQZTXU3Qg68Gjm/gINCqT2qfkRBusFG8bw+qEMQg8AAAAARZXrwdDsgMXIDT74ANDyqOkBAAAAIBIYmgOg2ejpgdhraAq6MIU5XWI7i/FxD/Vcj/Fxa0Tony9h779RIbafKWl92nfDx9W/Y+P3lLQN1emotP0a217VOVDlNms9n4I4/+rdR0O9RPKPV5jDJYxT2/4DnrLW15o1gA8IPQAAQPO1a+DhM78vOP09ds09JxoOJVv1PGn2e6/SBTh1MVCUp2CnkeXcQ2mEHgAAAECbKRqglQpMSgUb+csXC0gIRQCEjL5JAAAAQLvzo3dW3IfoAWgJfBIBAAAg8oxxcm61b8DNvdWyajVfmfO3X+e+iu/fzbnlPujk3iqsW7CNEuuVbkzpfVV8PL+ttd4qNa3ccaoVgU1DrE0GfqvHfffdp9tvv73Jz76QtVYXXnihtttuO02ZMkULFy7Uiy++6Pt+kcK7GQAAAAhLxC+ujXFbuk4O2tOjjz6qQw45RAcddJAeffTRssu++OKLOumkk7TPPvvowAMP1L777qsf/ehHNe3vwgsv1PTp07V8+XLdd999eumll7Ro0aJGngJqQE0PAAAAAGXDjfRj9f6iDkTBhg0btGTJEq1evVp/+ctfZIwpu/xjjz2m9773vfrgBz+o5cuXy3Vd/elPf9Ihhxyiv/71r7r66qsr7nNwcFDz5s3Thz70IUnSjBkztHjxYp177rlNeU6ojNADAAAAiChfZuzJ6l1Say+OcssTiGBcNGdvmTp1qs466yxJ0sqVK/WLX/yi5LK9vb068sgjlUgkdNVVV8l1U+f+AQccoLPPPlv/+Z//qQMOOKBij43u7u5M4JG2fv16vf/976+qzWhctPvTARU0PF0dWk+5MdV0z21L+XUAarmhggbG3le1+bFu9bXemrNz/+oOVNx1iRoMTbn49bntqa+WpW5VNK+R92ODn/9GTslbVfsqu/Hyx7zia15m/XLrGrmFyzuJvPdLudestlu979mq38s1nrsNv38aeG809X0bI0ble05ESXd3d9nHf/CDH2jlypX68Ic/rIkTJ+Y89olPfEKS9NWvflXJZG3hzv/93//piSee0JIlS2prMOrGNzoAAAAATcClBVrHj3/8Yxlj9J73vKfgsa222krbb7+9Vq1apd///vdVbe/111/X2Wefrbe97W269dZb9dWvfrXZTUYJfDIBAAAAaJLqe/aglSVDuDXP66+/rueff16StOuuuxZdZv78+ZKku+++u6ptbrHFFjr//PP1wAMP6IgjjtCVV16pO++8szkNRll8IsWU53m67bbbwm4GAAAAoqbJQ83qU/vwpobUOKUtUM7f//73zN/nzJlTdJktt9xS1lo99dRTkqSf/vSnmjx5cua2++67F6zT2dmpvfbaSzfffLO22WYb3Xvvvf48AeSgkGkMHHDAAXrooYcK7v/Yxz6mI488MoQWAQAAtI6idTsKFqrhQrmGsKHoBXiF9QvWKbN8YW0Mp8LjzVFY1LSaY5JbjDK/bc0slGrkytbSO8A4kq2uWGbD+0Lo1q1bl/n75MmTiy4zZcoUSdKaNWskSUcddZTe8Y53ZB5PJBIlt++6rvbff/+yy6B5CD0i7o9//KMeeuihgumUXNfV4sWLQ2oVAAAAUJoxLrO5tDFrvUBff1tnIFVKf39/5u+lgomuri5JUl9fnyRp4sSJ2n777avex6pVq3Taaac10EpUi+EtEXfppZfqu9/9rtavX59z6+3t1dvf/vawmwcAAAAU5VcvktI7DHtID1pFT09P5u+jo6NFlxkZGZEkTZgwoey23nzzTZ155plavnx55r5f//rX2m677XTwwQc3obWohJ4eEfbcc89p+fLl+vnPf55JEgGoLaeeZfpURI7P52TgF0s5Ow/v/da0aWlD0dh+I/05V82UtLVsrtzrXOvQlojLfi9X/uU//7mXHu5SdlsNDEUpK/u18WP7QSl3PtM7R5I0e/bszN83bdqkzTbbrGCZTZs2SZJmzZpVdlvDw8P6n//5H33/+9/XIYccov3331/bbLONbrjhhuY2GiURekTYZZddpuHhYZ1++ul617vepUMPPVRvectbwm5W00X6S04lLXrxXdXY5rDE+JjH+lwPWcseuyhfXLfqMU/z8fmFelHq++tW//Ybfh838PkfZs2O1P6bHHKYWupyVFo2b/+VjkMDF8V5o7ULN12xDsh40FAxAKki+Mg/tn7W3cjeV1X7KXdeVApc8l/DWl4z4zYp+PDU7BlV0h594yE9ti7Va2LD8HptGFkvr8lhzbx58zLlBV599dWiocerr74qY4x22223stuaOXOmHnnkkaa2D7Uh9IiotWvXaunSpRoaGtJ1112n6667To7j6AMf+IC+973vlawiDAAAAED+9fhAqPbe/B3ae/N35Ny3su+fuuJ/v9G0fUybNk177LGHnnjiCT399NOaN29ewTLpGV7e9773NW2/8EeL/4wTX47jaMmSJbrkkkv04Q9/WJMmTZK1VsuWLdOee+6pZ599NuwmAgAAoN3EuMclUIvjjz9e1lo98MADBY+tWbNGzz33nKZPn66FCxeG0DrUgtAjojbffHN99KMf1b//+7/rpptu0sqVK/WlL31JHR0dWrdunY444oiSRXUAAAAQHiM359bI+oUPVvP13cm6pYaCpG8Fyxg391ZVA93qbmXbVfg8CttYZXPKrUdx05B4qV42Qd1Ue4+egYGBVEu94uuedtppmjFjhm666SYNDg7mPHbttdfKWquzzjqL2osxwCdATEyZMkXnn3++br/9diUSCf3jH//Q0qVLw24WYszIKXkDACDuavp/rZoL7fTFc4kL6JpCjrxtVQxJyuy7Uo2O4o+PL1Pu+0A9t9ydVwpCiocgpUOM4mFJVaoIPhoJqnyXc4FfzfLJ8RsKvPHGG3rwwQdlrdUf//hHJZOFx2natGlaunSpNm7cqM9+9rOZH5wffvhhXXTRRTriiCP0xS9+Meimow5c3cTMIYccos9//vOZNygAAAAQFcH8eMIlDOrjeZ72228/bbfddplCpPfee6/mzJmjY445pmD5hQsX6qGHHlJfX5/e+c536t3vfrdOP/10nXfeeVq2bFmm2CmijUKmPvnhD3+o008/veb1vvSlL+mCCy4ou8xJJ52kSy+9VK+88kq9zQMAAEA787E2h5EjW8dwg4LtGLeKaW4RRVaer7PhFNtfNRzH0cMPP1zTtufPn6+f/exn9TQLEUHo4ZNp06Zpl112qXm9mTNnVlxmxx13lJQa8lKNeze+rq68Ln3zuidrXs/kmtuHLBTyAgIR6+lqQ257JLtoZ6ln7H71G4/xeVOJr88t5OPm97S0dW+8jmlla1i/lnVLD/sotUyVU9I24/2YFVAUez2svNz9lJyitnBq2uLT2eZe6MYlJDFyaw8Ess+Daoa4lD3OzfHkxpf11MaXc+7rHRnwZV9AIwg9fHLcccfpuOOO82Xb/f39kqRdd921quUPmryFZiW6fWkL4inydTsIlICW52vgEXc+hhp+H/eGQkq/z4lK26+h7Y2GHAXrV1q+bNurCEWy7itad6PY/TXI/MpebN8lgpCCACRn2eLhRzWBRumQRLUHB2V3lHe8ojw1bq3vrXLLZx3X3Sdvrd0nb53z8JO9L+nm1X+tbX+Azwg9Yujuu++W4zg69thjw24KAAAAYqxi2JG+AC4TOBSEGcXWz9tGs4bAAEAlhB4RdfXVVyuZTOpjH/uYpk6dmrm/r69P3/jGN/SFL3yh6p4eAAAAQFWqHf5SIgQpG4CgjSTHbkHuDyiO0COCent7tXjxYllrdf755+u73/2ujj76aK1YsUKnnnqqFixYoEsvvTTsZgIAAKBGtdbaqW9K2uwF8ofSVPh3+u4S7czUoigVjlQ7nMUmM48XDI+pugZF4TCYzL5jUt8DjXl03cN6bN1fNZiklghKi/jA/vY0ZcoUXXfddXrb296mjRs36qSTTtKuu+6qb33rW7rgggt0xRVXhN1EAACAyAiiVpWRm7kVPujk3mpZt9i+jJu5NdZoV0ZOzm28Tfn/dou3M+855S9XsI5xc28l9lf2sQxH2ZcrpY9J81//qBeCRsre0/fTKTuerg9szbB/lEZPj4j6+Mc/ro9//ONhNwMAAABxVCYwyQ87ch8sESAUuz+veGf2tor2CBnr3ZHTs6NowdES9yM+rBfsaxjlQrIIHT09AAAAgDZRe68YN+uWv7HyvVvKtSHTDj+n0AUA0dMDIWtoarumNID/UCMn4q9J6OesX6I8jSXqEoWu2aFNS+vz+ebrsW1C28M67lW9zxtoW00X6zVP0VnjFLO1bLpUWJD9z4ampG2whkdOW3IfKzzmeTU4Crab+8u+kZPzC7w16b/k9QAY69lRekaX3Nodxet1OCpW26Mk49A7AGgThB7wHRc74QhifDNiJsoXQlEW9/a3qjYPNkpuOsoBpt+fQbVsv9GQo9b1az5utYQiKqiPUdievO0VfX5u8fWLTDmbv8x4UJG/3eT4c7eejNzUsJexbRqrykNdSqBQadQlx4c4BbQ/oBRCDwAAAKBt5YUdJr+3R3ZRU7fohWxmmawQIhVmpNdNZnpWZIKPzLq5vTtK9/YAgPrw8xUAAACAAsV6hJSfxWZ8xpbc3iDhD7cD0L7o6QEAAIDIafowTR+HtNQ6HKpiXY5ali0WMhQb7pJZzs2bgrbI41LWMuUKkibG/pbV+8N6WftPZnp/2NQKgdbRSB87hsGEwaqmGitN2R9QHKEHAAAAEHmla22UCjyK3pcfZlQRdhSdijZH9vbTC5au1ZE/xAUA/EToAQAAAERahRlaiijZg6PkCrlhR6pHSGEvkkzvjnQb8ut42GSmWGmqUGlhuEHgASBIhB4AAABAG8sPRIoGHgVBS7pnyNg/01POGo2HHcbJmfGFsKON2GRNs/E0ZX9ACYQeaFjsp6OMqVhPSRvS1KmNivW5HuVpLMMW4bb7Om2qz5oydWpIr01TjntMp6Vt+L3cQNtq/n+t4jSu1W+veFHOBmp45K1bqS5HtXU7xvdfejiLkZM39KVw2Er2MsYksu53K9zvFj1HrPUkk5S1wzJ2WNao4CK01IwsQczUUu/0tpWH9bShGqcWBqKA0AMAssT64h3FZb+m+QX0eL0b4ufFd6xxXsVC2eCi1tcwwNe8VDhUukeGihcuLVg/fyhLftjRLZnOrAAh/Ut+UsZI1o7V6jBu0alpAT88tu5RPbb+MQ0mB8JuCiKM0AMAAACIsWJBRqVZWNKPO86UsX93yjjdkpkk40ySnImS25MKMZyERrsmy1hPJjkqJzkkeSMyo71Scp2sNyBpMLXhsWENVsOpoNkmx3pzJCXrjQchmfs1vp786fnB7C3Bs/ICCb32nL6H9py+h1b1r9J/Pftfvu8P8UToAQAAALQ1V8adJuNMlTqmybrd8jomKNnZrcHJPdqwhdFgT1KJYUedQ46mrEuqs29Q7vAkucMTZUZWS8lh2bxZQ6u+6PUx8AAAQg8AQM1iOwworu2G7+JSP6WthxRFuYZH/vJNrOFR0IujyIwqBTU8cp6LmzP0xZju1L3OtNSeO2ZJciVnktQxRV7HBHmJHiUTnRrp6dTaOVbrttikpOupayihroGEkh0JTX5zgro2JZQwjjpsUvI2yapP1o7IaljWjpTt5RGkkjU9yg1/BNAyCD0AAACAGClXyLT0Sm6Jf4/96XTLOglZJ6FkolMDU7v1xixP6zfv18CEIQ32DKljpEMTN/XIOlZJN6EJ3Z2atM7I8UbljE6V8Xrlqbfh54cWYL1ggyRCK5RB6AEAAADEQZmAo1QNj3RAku4B4jgTJbkyY7U85KZ6fNiOiUomJmm0u0eDU7r02tajWjtrg4Y7R2Qdq+EJQxp0BpTsSMoaK8+xkjrVMZxQx9AEdQ5NkUkmUgVMi/TyyMgfylJVrw8uaAHUj9ADAAAAaHPWSci6HRrtTqh/ktFrc9ZpwxZvynNTgUOyczQVdnQkNdI1rOGuSbJmkjqHetS9qVOdTqfyi6UCQBQQerQD40R7/H1MxyeXmvKtLYT4mkX6XK4kpue61ITjHuPXLdK1Hnw8rg3XjvD5Nff1dWlC2/2tveHjsW2w3Q3931jrvhupwVFk3VqnsC3/Gper4VFYo6NU3Y7xthUOZ6nUsyN/OeNMlJEzPluLM1WSZBOpf3uJHo12dWm429Vwl6e+yf3q36xPfdM26O1z/6QfT/ir9nh5kRKvbqnu7h4Za9Q12KnRzm5Zx4y1ISmbueX28mhsJo/0c6zU48MpuUzJuh6ZBZyyQyTyz4+C55N/jlQYblHufKt4rCp9Rvk91KPcuT/WtqBmb0mjCC7KIfQAAAAA2plxZY0j6xhZR3KsUceoq75pG/S+7e/TCd0P6Hn1a9spq/Ri/2QlhjrHV/UkZ9STvGHZShfbTB0LIASEHgAAAEBE5ffcSN2X/0t7qSKlyvzybkxi7I7O1OPGleTKuqnZXJKJhLwOR56TCjLe8tIMvb7Naj28YSfd+9KBSvRNkozV5I0TNGndFE3aMEmTNnZrwiajRH+fNLpanrde1uur2MujtnoeteDXfgCFCD0AAAAQLzEeMiepjqE8JQKPCseh/DCf4o+5o1Ji2GjaG93a6a876599PZrqJjX59amavmaaugYTSoy4mrgxockbHE1ZvVEd/SvlJV+XtQO1PCsACAShBwAAcRT3i74W5m89jzbW0AV+5fVrakrBa1yuhkfe4xVqeBg5RWp6FAs6ytfwyPTwUOf4n1k9PDLr2GRqeIsz3ibHSwUfs1dN1vTX5+mVrdcrMdyh7f5vqqasGZSxnpzRPrnDfXIGX5M3skLJ5GpZb3C8l8eYkr08yinoAUIPjqYq915oVj0Qmwx2OBNDp1AGoQcAAAAQK80I1pKSHfurTcp4noznyPGs3FEjdUiOZ9Q55Gj2qs3keEbdmzx19a6WSQ5I3qDkbZA3ulpJ7/XUNLXlVLgopRAlAL8QegAAAABRV3TGmSK9PPJ6gpSXlLGerHGU7OzQaKerkU6jZNYVQteg0cTeDnVvGlFnf7/M8CuyyXWyXp882zdWwyP1q35OLw+bNXtHBAKPsjO3AGhphB4A0Ex0awfgK4Y1+aHo0JhmDiGr8H9Dual+c4MMqeKwllL7LtEGa8aH0xjPyvHM+AiHUaV6d/QNqXPjGpnhV5QcWTEWdAyPBxuZwKM8enO0E6sghiU9tv4pPfHmUxpIDvq+L8QXoQdQRrkvIWhTLRpqGD/rQ8S49kTFGgG+NyDix87H9vl+7CN9bH08rr6+ZlVsO6zP0KK9JPJnPCkTPDRSw0NFjk2ZGh6FIYdUbf0Oyc26L2+d9HZsUjJjfzeuPLdLchyNdrpKdhh5juQ5Uueg5HhW3RsH1DG4UWZ4tbzR1fK8XqVnZikMPJKFNSGK9bCw2TU/vDLLFr9o9qXXRhW1LPLrkyB8e02br72mzdeq/lf1vf9bEnZzEFGEHgAAAEDElQyVqhnOUixsMq4kRxorYJrq5SFp1MjxpM7BpNzhpBIDG2RGelNDWuwm5QQeZRAQAIgKQg8AAAAgsvJmeyk6nCW/14pb0CskJTk+e4vTLWlseItSvTqc4VRlU+NZdW3qk0mOygy9KnkD8tLFSm1uz4ycXh7pu4sEHgxtaS9WyUCDL0I2lEPoAQAAgNYTlSFMRXpZ5PfaKD2cK3uq2rwhMNLYc8wf6pK/TvrfY8uZzpzl0oVMndFUKGE8K+N5cof7JG9E8jbJ2uGxwCN1YZke1jJuvHhpjlqGtlSJgqQAakXoAWShhgcAABFRIbRopO5LNesW1ukop3TNjur+nVt3I79nR057s4IOKV0DJKt+h8kLOcYeNyaRus/0SJKsk0gt5nky8tS5aVNqreFeGW9YdniFZIc1mlwz1qMjt3CppILZWlL3+dfLo9bAo5kBSdv0JDBOVfVNgDgh9AAAAADiwJTuIVLsh5vxQMSV8np4ZJYZu8A11pNsUmZ0k2RHJDsgO3ZfzgV/TuBRRrHl6KXRPsbOnUD3B5RA6AEAAACEpGyvE5Pfw0MqNpwlt35HsR4ekhnr4ZEKP8YDEic5lLp7tC8VcIy+ItmkvOR6WaULllYoXlqmlwcAhI3QA22N4SwAUEJU6iH4oZWfWx5fp6P2Q7PaW80UtTXvt9I0tUU2W2HqWpNXbyOzTJkhLSWnpC2Y9jYdgKR7eqQfH1veeqnteiOpf3vDkrxMD4/8AqVWxWpxFJmiVgqpRwe/9DcFPSbQggg9EK6axssiMLwuAOLO54v92uo9lNP8dvoZdDT0Y0GlY9ZoDY8mPu/C17fKwCM/iBi7Lz+YyC1EmhtcpAKLEr06iu0jq4ZHTn2PsR4eyunhMba8cWXsWG0Obzh1v9eb6uHh9UljdTtsfqhRzWwtxQqV5oUglYe8VHvh3eAFeoQu8APtJRPA8071Egru+DI7EMoh9AAAAAhFzHphoLxiQUi5oGes94aRk5pRxTgySgUT44FF3vrZAUGxgqUZ4z08TJEZXHK2Y1M9Paw3oFTYkQpBbH6oUc1sLVXg4hRA0Ag9AAAAgLo55cONYtKBh0nIyJUx3WP1N7rHemt0FllpbAaVsb+XnqrWTfX2yWwje6hLlkwPjwFJkvV6U/sYC0FKD2vJ77VRoZcHAISM0AMA0Nayfx1t5yJ8zRuu0foaP1Y+Dj+JWg2PKJ9X+TOhlGyrU2KZMse6xBS16aEr6XDDOBNTPT2cSUqHICoTehiblDQ8HkzYZGGPj3QvkXQvj1K9RTLbGEhN7WqHZZU1U4vNHZpSEGKU6eVRavhK4TbyP3OLb7OZU89GVev9XxTw7C2EbCiD0AMAgDFGbot82awOQQfaRcV6IEWVC0WKBx6VCpeme3g4ZqJkXDnOtLFeGZPGhrjkTS+bY2yIiR1IDUGxw7IaGd90dh0Qkz2sJT/0SIcdY8NYvE1K9fAYKOjJYZUfeOTW+BgPSEoEGw1e9DYSdlRct4qhOXX/fxChWiEACD0AAACAhpUr8poOXVJhhyPHmSKZThlnSirscHpSQYeTGuZinUTuBqyXVXh0oowdTA1LSQcgWcNdCoe1pKWXyQpPJFk7mCpQmglDcqefLVa4FADihNCjDdzbu1ZdjqN53ZO1a8+UsJsDAAAQK5V6RRULPHJncBmbpSVdu8OZkvrTnSrJldyJsm63rNstz+mQdce/ohvrySRHZWxquIDxRmS8HinZKeO5qZ4a6V4N2T08cv5MyypUmq7lkQ4/ioUaZXpLFOvlgfb1ZO9LemrjS+odHRi7J9jZWxjegnIIPdrAQZM316xEtyTJFuluF7nxvwAQovq6wfsgNlOuNtCGqBxr+CPkc6zs+VWxnkcV778ys7UUTlGbGAs7umXUKZPp2ZEa5uIlJstzu5Ts6lYy0aHRTldeh0m1ZNTKHfXkjHpyR0bkJEfljA7LGFdm1JGRMkFGSl7h0kwoMdZzIxN29I39WaJwad56YyuXHfJRfy2PehR+pw219kcDQ1paYVjl7lO20e5TttGTvf/Uza8tD2y/j7/5jJ5881kNJocC2yfih9ADAAAELk6BR3MDonj90FBuyEbxFUJ6XQP7ASc3zMhtQ+F9JlNcdGxKWtOTKjRqelLLO52yTkJeokejnV0amtSl4W6j4W4p2WHlGSvHGrmjHeoclDoHE+oYTqpjqFPuUIdc48iMeFJeb49C6Slns4e1pP8cC0zqKVxaLNjICx7qLV5aXIO/5tcQTPgdRLRC0BEFe262i/bcbBe9MrBa33/+p2E3BxFF6AEAAABUVPtsLQXDWkxCUmeql4dJyOuYIOskMoHHps2MBnuSGuwZ1UgiqdFE6sLYTTrqHOrQxI0JTejrUFe/q07XlQYddXgjqbbZwbweH9k9NpKpcMMmUzU8VKaHRzHVBh5Amg149haKx6IMQg8AAACghMZ7+ozNpiJHqcDDzdysk5B1OzTandDQBKP+iaPqmzSswZ5hDXeNaLhrRJ7jyfEcdQ12arirRyOmPGDoAAAgAElEQVSdXZrY0ZEpduqMTJBjk1JyRJlCpVnGe3KkCp7adOHTzNS1uReLuQFGsuLFZLnAw59hLQBQG0IPAEDbitMQi2aIQh2PuPDnWPkzBCPWtbnKtL3i+7PW511jHY9KU9RWKl5q5KZqeUhjPTzSU8mmennI6ZR1O5RMdGq429XgBKuBCSPqmzSowZ4hDfcMaWjCkJKdozKe1NXXI8/15Bkr63TL8TrkjHaosy+R1dNkPMwYDzvGhrF46RoeYz09NFbQtGRB0vxhKlUULq051IhYXQ4ALYnQAwCANkDgEabmhhJBhRw11/OoeQf+bT+MQDM/8Ej9Jd0Od+y+8QKj1riyxpE1RskOaSThabhrVCNdI5nAY3Byv4Z7huQkU9tODCXUMdyhzuEODXe76u43spnjmFW3I+vf6WEsqdBi7L6yPThyC5eOr1uo2b08Ggk8Kq7L8AegbRF6AAAAANXKDFXJuqtMQGTSgUeVwaNnrDzHyusYVbIjKc/1ZDwj60jWsbKOzd2+9SRvuKB2hzQsa72sgqXle3iUKlxadcFN32drQbx4CnYaWUItlEboAQAAAFSjlh5Txinb48TkBQHGM3KTjjpGXblJR07SlTvqSoOdSgwnlBhMyB3pUGK4Q+6oI3fUyBn1UqGHpFTgkcwKPzwpq3dHTvBQb6+HUsEGoQaACCP0aAfGifd4XyBKKn2xi+kQAmu9tvycqPQLZtxrfoQ9pCXux68xManfkXeO+D6kxUfNPN+KvnequS9v1pY0q2HJujJ2WFaS8VK9LpzRVK+LzsEudXWnZmjpHEpoJNGppDvW08JYdQwn1NXXrZ6+bvX0d2pCX4e6+6XE4KhMclDy+mS9AcluSg1nscnxHh1eXg+P9KwtmR4e6Vlc0o3N6+FRbgraJkxPW35YSoUiqk0c0lLzFLJhD5cJe/9AjBB6AEAzlfsCFtNABIid0AO8sPeP2pV7zZr9eo6HCcZ6MslRuaOeEsOuOodcdQ+kAg9jjToHOyVJiZEOJYYSmtDfpZ7+hDqHHCUGPXUMDaVCD5uUbGo4y3jNjqSsvKzwwsvsVypRj8N6tV/8NyDsGh5BPtem7jfKgUc6NLNeoEVpbZSPCUJH6AEAAAAU1Vjgkb64tXZERklZ25ea0cXbJJlOOcNvyrjd6uzrlOf0aLQj9dXc8Yy6hhJKup4cz6hj1FXnUIe6Bzo0caOrnk1WXX1D6hjaKI2ul02uk/V6ZTU8Xrg0M3vLSG5bND4cJrex1YQEDGkBED+EHgAAAICfbFLWpOp4WLkySvXMkE3KeCNyhwfV2e9qQkeXHK9DXUOuRhKevLGipe6oo8SIUdegUVe/VdemISUGNsmM9Mp6myQNZ3p35IYR6aAj/34AaB+EHgAASbldQ5taN8B6ERhuAFQv7FoovvPr+UX5uOV9BlX3GmetU22NjzypHh6OrEnV9LByJA3Leo4kV2ZUkumUa5NyRvvljmym7t6ERrsT8hwjr8OR8STjWXUMj8odGZU7NCh3ZJPM8BuyybWyyfXybN9Yz47xoSylZ2fJHe5SMNSihjod1c3SUksdj+BqeMBvzN6C6CD0AAAAaBdRDiZagU0WHGMrT0ZS9nCSVPHo9H1JyRuWMW6msKl1HDmOkR01Mp6VM5qUk0zKGRmWOzogM9qXGiJjB8aKpCaVH2bkt0HZbWjC7C3VqbVwKQA0H6EHAAAA0Cw2KaVnkhkLQFI9PtzUTCl2RHIka91UIVPjSN6ATLJT7mivXJNQoq9zPDyxWcNW7IjkbZL1Nsl6vfLG6nhU1bMj074SPTyKPRV+PQfQAgg9AAAAgFAkZa1kTFLWDsuki4+mswbjjoUYXmaGlnTvEKv0LC01zLhSqYcHvTDQJMzegigh9GgH1iv7QdDUsfsxk/8LhmGaQUBS4ZeHdv6c8BXHtX5tdOxa6v1X4bkYhTf8puZaLtm1LczYNsa+R6RDCGPHHpdkNTL+LSMTaowNZ7EDqZ4gXu/Y6+1KOcdiLOiwI7LeJnl2ULIjsna4SG+M4kNY8nuCjN9f4jtiNcsVXNTWOpwluBoedU0T28CFdFjT4QIoROgBAAAA/7VSeNMgq+TYcBev4AeXVL0PV7nDUpKpMNomx8KHZImL6uIX2jVdgBcJGuI6zIXgAYBE6AEAAAD4ItPjI90DZGz4ipFkTXJsRhfJ2BFZ48rYgdRy2b1OxoIOa4dl7WBW8CHlhBylenZkbSf38eqCjGp7ggA5rBfsbDoMb0EZhB4AAABA0KxXYqaXrJ4fNntISn7IQOgAPLHhBT3Z+6IGk8NhNwURRugBZMn+NYP6HgAAVBD0FLg+DpHJrh+RGl6S/k7gjIcP6dlYigxLSd8vjdfyGL8/zctbblgy6d4ebt6yY701soa0FJ+Oto4eHWV6aRQsX2NNjqjU8GgYPQdiYY+pO2iPqTvolYHXdfWK28JuDiKK0AMAAAAIi01WER41sVcHw1IQAKsaZhVq0v6AUgg9AAAAgJI8qUSvjkxvjyI9QSQVPJ6Z5SU9q0u654r1ZDWStfXcGVjKXjxWW3iUsANAmyL0AEoo1XW1LVT1qxMAAAFLDzkIayaYvP8fG/6uYL2x51JnINGEmVbq/4WcX9YBxAOhRzswztic76hVuS8CLR+IlPtFKMRAJDWVX0yPfaVf2Vo5aCo3NjrCr2d6Wkn/dlDhoqHBY1NufLxp5fMNufx6rcM8hzJhgU+bt8nS75ESvTqkIrU8TP66xWZdqbFt5cKGEu/5etYZV3rd4p8xDdbtyFm4wrYaHT7RQN0OX4duRL2eSFWvYcCztxDCoYzoftMEAAAAIqHOC6omDylpeuABAG2Anh4AAABArYoMBS2o5VFhuYb3X+7hUvugtgeANkPoAQAA0MqyL3IZ1lRC8WKlFeUNdWl4uVr2WerhpvbsqHVK2vKYkrZ9MHsLooTQAwAAIMJs1sVZ6DWN4hqa5NUAKVuzI2uZtNSy2RdVea9DmTofUuEsLo2q6gKvgVodOZtpcDuRCjoAtCVCDwAAAMBHRYe9NLit8guVCxoIGQC0F0IPAAAAoBkqDGMp2QOkimWr3jcqo3cJ0FYIPQAAQPz4OGVpNUMfyquzPgRyagD4Ol10UWWGr5RdtsjyVdbwqLsOQU0BR237qK1mR7BDW2quERHlcCPKbSun2vPDBjxlbVyPJwJB6NEOrJczHjhf6OODgRq17Plc7otEXMfRA34q9VkQic+BUp9TUWhba6o1MCms2ZEtN7jKv3gvvny25tbwKK/B4CHI7VdxYdpQ8csmXvg2XIQzzIvwSq8J3ynQZvifFwAAAAAAtCR6egAAAAAAmsd6TehlVNv+gFIIPQAA4fKxNgOA9mSVbEJNkNI1PirXfalQ86OhtlTW2MVm9fuqaj81XIy2VM0OAJFB6AEAAIDWl32BbGoNMYpsrswFf+WaH/WrL9Bozv5r3rffNTwAoAqEHgAA/P/t3Xlw1PX9x/HXd0NIAAlHJEVEDq+fQCiMoJRDlDOd8QI5SltGECLgpEOhWpgyDFSnWBkEpKMYBISR8Sw6Fe1YrcVKhamBKZQjCCNCCwJyEwhJSLKf3x/INiHJbjb7/e53v999PmYyA3t8P+/97neP72s/BwAAsFFQdoZ99WsPqB39iQEAAAAAgC/R0yMZWAFvL+MJRCHccraSh5e0NZX+XmIu3PPm1ecM7knoeWKqL4UaLWOCHn4fs/l5CTNcpSG1RF7Ctqrw7cV1Asca4jyUxsk5O2JoK+KmvD6sxs5jzNXjFXAeoQcAAGGE+2Ic+0SJ7ol0MmPHibVf9x1iEEVQce3xE/aYqS3EqHL/aI+3a18f0c/RYWcwFduJvu0BjIcmJnU02HB6ElUng4h4hBwmGN8whUltEYZHfyoAAAAAAAAIj54eAAAAAADP2XXhiHZfOKLSynK3S0ECI/QAAABA/VTtru6heYaMKmsOcYlmqE3US9rGt6u9o3OIRDlswM0hLZ6fp8NHjIIycXgdZDdvp+zm7XSs9JxWHt7keHvwJkKPJLCx6KTSAgF1SW+urk0y3C4HAAD4gZ8mWK7HJKuR5/mIj5gDjmtDhnCP20OBR1x4rd442nXhsHZfOKyi8hK3SwFqIPRIAoMz2qhtarrbZQAAAADwoe7Nb1L35jdpV9F/9d5329wuB6iG0AMAAAAAYB9j4tszxpj4tQXPIfQAGsgoKIsFkADAl8INIXBrWMNVJsyJRMSlhu0ekhLLHB/RDLNQPZagjTBHR1T3v1Zt24vncpzhxHpiGeH+Mc+T4aU5O+J6kp4gxw+QBAg9AMArwn1B8su4eiSNWieWTBrXnljFOUB3ajLSOM7xEfH4iTBHR9THX5QBja1sPhG/NjgItx8aFDJ4JeRwOuAg1AASBqEHAAAAAMA2RpVx7Q3Fyj0Ih775AAAAAADAl+jpASCpxDQWHgAcUfV9KYnfh+qxbGzU27sqwhwfUvhhHmG3nWCi/cWbOTsA+B2hBwAAABJDhKDC0aYjTXSawOjaXw8EHvHF6i1IIIQeAAAAsIdTk6QCANBASdyHEgAAIMmxwgQAwOfo6ZEMTDBx5zGI4/J2QCThXif14fprKRwvv84iPS8u7vdIXcpj7iIfyzEZ636JtVtyPdoPt/8c3Xcx7ptIKxJYMb3egorlNyljgtG/F1V5PMYKf1Mrmtpq20/R7JsIy8RGNSdHbcdDhCVtPcvlYRyeXma2WlvuHgOmxtLW3mDEMBMkHkIPIAbhPpCi+mIIX4gUmjBRqkMcPLmFT9k9YSbqz8HhL1dPtusdmLk4f4itCDlsbM+9oMOrIUddjCrjGh56OqiE4zz8Dg8AAAAAAFA3Qg8AAAAAAOBLDG8BAADwkapD7eweVndtF/yYhnJeO5Qg0nCXCHN8hG4W7TCX2rYdidtz5rjIN8NZmLPDWSxZiwRCTw8AAAAgXjwceACAF9HTAwAAAA1S9ddqJvAGACQiQg8AAAD4TtVhGDEvgVxj4xGG2iRwb46olvqNcF9bJPC+QsMZUxlxeW+72wPqQugBOCTSWE1+EUNcmUrbl4f0BJYmdU+M+96o0v4T1WoNJPJSx5FOAutfX21LaTu1fHbM8304NMeHVL+T9ZiONxtP3OO99Kat7bHELIAE5PanOgAAAAAAgCPo6QEAAAAAsJFR5F5rdrcH1I7QAwAAAEnP0TlAwrTleczJASDBEXoAAAAkkdrm+bjKqnFBw0/+E3mOj4hN+ymUkJybwyaJ5vAA4F2EHgAAAAAA+8R59RYCMYTDRKYAAAAAAMCX6OkBIHqxpOnJuGyqD4TrDi85twQmYuCD5XrDDTFwes6FWIT7ddOy5T0w3OvR5ue86mOJsXajYHyXa7dxuEvCc3KYiZtzdrj8671nl6WNtN/4LoYkQ+gB94V7Y+ZN2X9MZdI+r64HBw6GVa4/tnAifWF3sLZY5gWw5aQ+lpMVO16nMbUf/nmJtG9j2n8OHjORunvHHooE5VhHXhtOpMKdREYMRGJtnwk3axfrfnExmPBtKOHl9kPHk4nza47VW1A3Qg8AAAAAgOfsKT6lwkunVRqscLsUJDAf9/MDAAAAAPhVt2bXa0yb/9OwVp3cLgUJjJ4eAAAAAADbGBOMOPTV7vaAuhB6AAAAJAhjKm2a7NQFMc7ZdO38DFFPenrtPAVe3Y92Y1JLAEmO4S0AAAAAAMCX6OkBAAAAALCPCcZ3lRqGtyAMQg8ktiRe3tTX6Gpbq2vHo7q6zGsyCfdFiecAtTHBBD82wn35j+PS2DG+l9s+3KXaxjz0OePm8qYuL62a8EvSur30LIB6IfRA4vPLlxbUH8+5pOohCAFI8jGqlKXkOd49x7NhWVBxG91c23u5m3N+VNsYJ6shDu+LhA8u6sIxAvhGIn8qAwAAAAAANBg9PQAAAAAAtjEKxrWXj2d7FCEuCD0AAACSStWTA+92+rV1uAsAwLcIPQAAAJJW9eDAmOrX2j6fkI0TnaJh4hkW8es7gERA6AEAAAAAsI+pjPOStUw8i7rRDxAAAAAAAPgSPT0gY4Ish+mCWLp8JvW4ZVOZlF2ivf46NeGW94zA1cdtggm+/KhzTIy/mlmxvk4jHTMRnhejhtcf81LBMR43sez7mPf7NaJ57Ub9Wo30OKN8LNF+ribqZ2m8h4R4egiKh3/dj+VzMVZe/j4BNAShByR5+IQkSRkFE/bLWlzE8iUnCQMTr3M98Inli2mMdbt64h4jYyptPwGv3kBsoUjYTavSnuCjLg4ez47v97Bt2/xavfa93u5Ax8sn+37h4dAiEjdDjUicrM3IfN+Gies+MNdOSARUkcRnTQAAAAAAwM/o6ZEENl44pTQroC7pzdWlSXO3ywEAAADgI7svfKvdF4/qQkWp26UANRB6JIHBza/XD1LT3S4DAABINYe+MEy0fhwe7gKg4bKb36js5jdq14Vv9acTOyTFefWWGIaDwv8IPQAAANxUNQQhAAEAwFZ8sgIAAAAAAF+ipwcAAAAAwDas3oJEQugBAAAcYSKM53ZradX6CLdcsKPLAZtg7Esdu7jfYznJiXq522jnC0jg460GHy/l6hWJvOQsgOgQegAAEl64L59RnyghYYQ7OU/kQMTrwu93H7+ewgUJTh9vhBiuI8QAkhehBwAAAADAPibOq7cQLCIMH8f5AAAAAAAgmdHTAwAAAN8LNwTA2d/KjAm6N7yGX4l9iSEtACRCDwAAAACAneK8eotYvQVhMLwFAAAAAAD4EqEHAAAAAADwJYa3JAMrkLhL0Hl4SUIrmTNDDz9vsUrY11J9uPS8eXufuVu7Je++1ry+5Kxr+96GYy62fe/eMe/p9wokpKrHFPN7xFvl93/xbA+oHZ8uAAAAAADAlwg9AAAAAACALzG8BQAAAIDvMKQFgEToAQDJw4QZ7+rx+RcAAEDiMHFestawZC3CYHgLAAAAAADwJUIPAAAAAADgSwxvAYAohOuqyXKLABKBCTOUzetLCQNVMWdH4jKqDPte5ER7QF0IPQDAJpG+fCV0KBLpi0kMJ0rGBBP7scMRxlR6+gQ7li/QlmJ43CYoOfh6iXQSYlmRtuBkbbGdwPr5fcbJk/tI+41gwYsiPWf+fa0AteGIBwAAAAAAvkRPDwAAAACAfYy50nMtnu0BdaCnBwAAAAAA8CV6egAAAAAJhHk0AMA+hB4AAAAAANsYUyljnB9U8FVZqb66XKYygkKEwfAWAAAAAIDn3JGWrhHNW+i+pte5XQoSGD094C5TGdNSmADgKIeXD43YvFvLptok8vKoDtYYy69+bi99Gq52t2tL4KUwGRLSMOy3RMRzAtiJ0ANoIKOgLDpLIQrGBGW5fsLijli+VLu+zzx68mxUmRDBRziuhiLhxBh2ORpW1ed4dPU14+TJWnK+f0Yv2ufAy/uVcKBhnNxv32/bBK/8uBkvhHcIw8vvcgAAAAAAAHUi9AAAAAAAAL5E6AEg4RReOut2CUDS21N80u0SgKS3+8K39bxlsMof4D5jgjLBOP4xvAVhEHoASDh7S865XQKQ9AoJPQDX7b54tB634mQPAMIh9AAAAAAAAL5E6AFXFJYUuV1C1ApLzrtdQtS8WLNXeXFIjhdr3lN82u0SGmRP8Sm3S0gKey6ecLuEBtlz8Tu3S4ja7gv16YGQWOo/VASx8uK+9uYxncA1X129JW5/9HhC3Qg94Iq9pRfcLiFqe2sJaoyCDf6LT82EHvFS3yE5xgQb9OeEwhLvhR6Fl864XUKDFF7yZljjNXuKPRp6FHsw9Lh4zIVWgxH+wqvfUBE3RHpMsT1u59Ws6cq+jlS3HX/2ceeYjo0Xawbc0MjtAuCckpISSdLpissuV1JTWTCo4+WlV/5jeSN7KzOVOl5eYtv2rDhkjqU21/w/ztZeaip1/PIlR9uwm9M1Ww68TsqCUdRspdjefn1ZlhX6d1mwQscvF7tWS9S+f96u7OvEqzvc+1BpsELHyy7GsZoo1fKaKA1W6FiZTaF6HD+bSiv/V7fjnw0RHld932vKguU6VuatYP1Kzd4Ke724nyVv1k3N9jhXfuV7xZlgfAO5eLcHb7GMMcbtIuCM119/XePHj3e7DAAAAABwVNOmTbV371516NDB7VKQYAg9fOzUqVP6+OOP1alTJzVp0sTtcgAAAAD4WElJibZt26bs7Gy1atUqrm1ff/31BB6oFaEHAAAAAADwJW9MpgAAAAAAABAlQg8AAAAAAOBLhB4AAAAAAMCXCD0AeFYwGNSGDRvcLgMAgLgoLy/Xhx9+6HYZAOAphB4APKFfv34KBALV/ho1aqT169e7XRrgG998840mTJigXr16qX///urdu7dWrVrldllA0qmsrFTHjh1rfO6lpaWpoKDA7fIAwFMauV0AAESyefNm/fOf/5RlWdUuT0lJUV5enktVAf6yY8cO3XfffRoxYoQKCgqUkpKiLVu2KCcnR9u2bVN+fr7bJQJJ46233tKRI0dqfO6lp6crNzfXpaoAwJtYshZAwhs5cqQGDRqkiRMnVru8cePGSk9Pd6cowEeKioqUnZ2tkpISHTp0SM2aNQtd98wzz+i3v/2t1q5dq0cffdTFKoHkceedd2revHkaPHhwtcvT09PVuHFjl6oCAG9ieAuAhLZ//34VFBRo6tSpysjIqPZH4AHY4+WXX9aRI0c0ZsyYaoGHJE2aNEmSNHfuXFVWVrpRHpBUPv30UxljNGLEiBqfewQeABA9Qg8ACW3x4sW6fPmynnjiCa1Zs0bHjh1zuyTAd1avXi3LsnTvvffWuK59+/a6+eab9e233+rTTz91oToguSxatEinT5/WE088oTfffFNnz551uyQA8DSGtwBIWCdPnlTHjh1VVlamq29VgUBADz74oF588UXdeOONLlcIeN+pU6eUlZUly7K0Y8cOde/evcZtRowYoQ8++EAzZszQ4sWLXagSSA67du1Sjx49ZFlW6HMvNTVV48eP1+LFi9WyZUuXKwQA76GnB4CEFQgEtHLlSi1atEhjxozRddddJ2OM3n//ffXo0UP79u1zu0TA8/bs2RP6d11BYrt27WSM0e7du+NVFpCUWrRoobVr1+rZZ5/VAw88oMaNG6uiokJr1qxR7969deLECbdLBADPYfUWAAkrMzNTP//5z0P/Lyoq0sKFC7Vo0SKdOXNG999/v7766is1asRbGdBQZ86cCf27efPmtd4mIyNDkjjhAhzWoUOHahMGnzhxQnPnztXq1at18OBBjR49Wps2bXKxQgDwHnp6APCMjIwMLViwQB988IFSU1N18OBBrVu3zu2yAE+7dOlS6N+pqam13iYtLU2SVFxcHJeaAFyRlZWlV155RatWrZIxRps3b9Znn33mdlkA4CmEHgA8JycnR7/85S9DXwABNFyTJk1C/66oqKj1NuXl5ZKkpk2bxqUmANU99thjGj16tCTxuQcAUSL0AOCYFStWKBAIRP03Z86ciNueMGGCJOno0aNOPwzA19q2bRv698WLF2u9zdXLf/CDH8SlJgA1TZgwQcYYPvcAIEoMhAfgmFatWumOO+6I+n5ZWVkRb3PrrbdK+t9cAwAapkuXLrIsS5J07NixWleHOHbsmCzLUrdu3eJdHoDv8bkHAA1D6AHAMWPHjtXYsWMd2fbVeQi6du3qyPaBZNGqVSv98Ic/1M6dO1VYWKguXbrUuM3VFV4GDRoU7/IAfO/q515tr1EAQN0Y3gLAkz755BMFAoHQGGcADTdu3DgZY/SPf/yjxnUnTpzQ/v371bp1aw0fPtyF6gBIVz73mjZtqgcffNDtUgDAUwg9ACSs/Px8vfTSSzp//ny1y4uLi/X0009rxowZ9PQAbDBlyhS1adNGb7/9tkpLS6td9+qrr8oYo6eeeiq0igsA+1VUVGjJkiV69dVXVVZWVu2648ePa8mSJXruuefUunVrlyoEAG+yjDHG7SIA4FpFRUVq1aqVjDFq27atXnjhBT3yyCM6dOiQcnNz1aNHDy1btsztMgHf+OSTT/TII49o3Lhxys/PV6NGjbR161YNGzZMAwcO1Pvvvx+a+wOA/Xbt2qUePXpIkm677Ta9+OKLGjp0qLZv367Jkyfrpz/9qWbNmuVylQDgPYQeABLWunXrtGzZMu3bt08VFRW66aab1LdvX02dOlX9+vVzuzzAd3bv3q0FCxbo66+/VpMmTXTp0iVNnDhReXl5BB5AHFzt6XHw4EFJUufOnXXPPfcoLy9P2dnZLlcHAN5E6AEAAAAAAHyJOT0AAAAAAIAvEXoAAAAAAABfIvQAAAAAAAC+ROgBAAAAAAB8idADAAAAAAD4EqEHAAAAAADwJUIPAAAAAADgS4QeAAAAAADAlwg9AAAAAACALxF6AAAAAAAAXyL0AAAAAAAAvkToAQAAAAAAfInQAwAAAAAA+BKhBwAASWr9+vU6f/6822UAAAA4htADAIAk9Pzzz2vnzp1q0aJFtcuLiopUUlLiUlU1vfvuu3ruuefcLgMAAHgUoQcAAEnmjTfe0BdffKFnnnlGkvSXv/xFWVlZSk1NVcuWLfXHP/7R5Qr/Z9SoUSorK9O8efPcLgUAAHgQoQcAAEnkP//5j379619r1apVoct+/OMf69ChQxo7dqwsy3KxutrNmzdPX3zxhf785z+7XQoAAPAYQg8AAJLIzJkzNW3aNF1//fXVLm/atKmGDRvmUlXhWZalZcuWafLkycxBAgAAokLoAQBAkti1a5c++ugjTZs2rdbrE7GXx1Xdu3dXv379tGTJErdLAQAAHkLoAQBAkli5cqUGDx6sNm3auF1Kg0yZMkV/+MMfVFpa6nYpAADAIwg9AABIEuvXr0/YISz1MXjwYFVWVuqjjz5yuxQAAOARhB4AAMTZ2rVr1bVrVwUCAQUCAWVkZGjmzJmh69966y01adJEgUBAzZo105NPPhlzm/v27dPx44/Y1/cAAAg8SURBVMfVu3fvqO732muvKSUlJVRrly5dtGfPHv31r39V3759dfvttyszM1Pr1q3Te++9pxEjRmjw4MHq2rWrRowYoYKCgjq3/e9//1s/+9nP1KdPHw0ZMkTDhw/X9OnTdfjw4Vpv37hxY919993605/+FNVjAAAAyYvQAwCAOJs4caIKCws1Y8YMWZalp59+WkuXLg1dP27cOC1fvly33XabDhw4oMWLF8fc5rZt22RZlu64446o7vfoo4/q9ttv14ABA7Rz507t3btX3bp1U58+fbR06VJlZmbq3LlzWrp0qY4cOaJ3331XGzdu1Pbt29WkSRMNGDBAa9eurbHddevWqU+fPurRo4e+/PJL/e1vf9OHH36onTt3auDAgQoGg7XWc+edd+rLL79syC4AAABJiNADAACXXA093nnnnRrXnT59WgsWLFDbtm1taeubb76RJLVu3Tqq+y1cuFD9+vXTZ599puzs7NDlGRkZ+tGPfqScnBwZY/Twww9r+vTpSklJkSSlpaVp7dq1at++vaZNm6adO3eG7rt9+3Y9/vjjGjZsmGbPnh26vLCwUJs2bdKRI0dUVFRUaz2dO3fWgQMHmNcDAADUC6EHAAAu6dChg3JyclRQUFAtFJCkDRs2aOTIkba1dfLkSV133XUKBMJ/9BtjQv+eNWuWzp49q9WrV4fCjGtZliXLstS5c+ca16WlpWnq1Km6fPmyFi5cGLr8mWeeUXl5uSZOnFjt9j179tSqVav0zjvvqGXLlrW2d8MNNygYDOro0aNhHwcAAIBE6AEAgKumTZsmY4zy8/NDl23cuFH33HNPnUFDQ1y6dEktWrSIeDvLslRRUaFJkybp+eefV7t27WJqd+DAgZIUmnzUGBP6d8+ePWvcftKkSWHDnqZNm0qSzp8/H1NdAAAgORB6AADgovvvv1/t27fX66+/ruLiYklXlpZ9/PHHbW2ncePGdc6TUZUxRvPnz1evXr10yy23aM6cOTpw4ECD283MzJR0JaQoLy/XyZMndfnyZUlSq1atot5eamqqJKmkpKTBNQEAgORB6AEAgIsCgYByc3N18eJFvfHGGzpx4oSKi4vVqVMnW9tp0aJFKFSJZM6cOcrLy9OaNWtUUlJSYxhKNK6uxJKZmanU1FRlZmaGerCcO3cu6u1dunRJktSsWbMG1wQAAJIHoQcAAC7Lzc1VIBDQihUrtGbNGj322GO2t9GpUycVFRVFnADUsix17NhRkjRgwABNnz5dW7Zsqba6TDQ2b94sSXr44YclSSkpKRoyZIgk1bkKy9GjR+vsXXJ1WEtWVlaD6gEAAMmF0AMAAJe1a9dODzzwgP71r3/ptdde00MPPWR7G926dZMkHTx4MKr7/f73v9ctt9yiuXPnav/+/bXexhijwsLCGpefP39ey5cvV0ZGhn7zm9+ELp8/f74CgYCWL19e6/bmz59fbULVqg4fPqz09HTdcMMNUT0OAACQnAg9AABIANOmTZMkjRo1ytYJTK+66667lJqaqu3bt9d5m/Pnz8sYo7Nnz4YuS09P15NPPqmSkhKNHTu2ziEpGzZsUH5+fiisOHPmjEaPHq3Lly9r/fr1uvnmm0O37du3r15++WUVFBToF7/4Raj3iTFGL7zwgrKysnTrrbfW2k5hYaF69+4d9eMHAADJidADAIAEMHz4cN10003Kzc11ZPtpaWkaNmyYPv/88xrXbdq0SXfddZdmz54ty7KUm5uru+++W9u3b9fhw4c1b948WZalXbt2qXPnzjXm+LAsS7Nnz1ZlZaUGDx6se++9V4MGDVKXLl20Y8cODR06tEabubm52rJli06ePKnevXtryJAheuihh9S6dWstWLCgzsexdetWDRo0KOb9AQAAkkMjtwsAAADSsWPH1LNnT3Xo0MGxNsaPH69f/epXMsbIsqzQ5QMHDtTWrVvrvN93330XcduWZSkvL095eXn1rqdXr156++236337//73v/rqq680duzYet8HAAAkN3p6AAAQZ8FgUBs3bgytRCJdWaZ28uTJjrY7evRopaena8OGDY6245Q333xT/fv3V9euXd0uBQAAeAShBwAAcbZy5UoNHTpUs2bNkiRduHBBn3/+uSMTmFaVkpKiZ599Vr/73e8cbccJFRUVys/P19y5c90uBQAAeAihBwAAcZaZman09HT1799fZWVlys3N1Zw5c+LS9k9+8hPdeOONeuWVV2zZ3tmzZ2WM0alTp2zZXl1eeukl9ezZUzk5OY62AwAA/MUyda0JBwAAHPPUU09p27Ztqqio0MyZMzVq1Ki4tX3hwgXl5ORoxYoV6t69e4O28fHHH2v27NnavXu3jDFKSUlRdna2lixZovvuu8/Wer/++muNHDlSGzduVJs2bWzdNgAA8DdCDwAAktCZM2c0ZcoUrV69Wi1atHC7nDqdO3dOY8aM0bJly5jLAwAARI3QAwAAJKy///3v6tixozp37ux2KQAAwIMIPQAAAAAAgC8xkSkAAAAAAPAlQg8AAAAAAOBLhB4AAAAAAMCXCD0AAAAAAIAvEXoAAAAAAABfIvQAAAAAAAC+ROgBAAAAAAB8idADAAAAAAD4EqEHAAAAAADwJUIPAAAAAADgS4QeAAAAAADAlwg9AAAAAACALxF6AAAAAAAAXyL0AAAAAAAAvkToAQAAAAAAfInQAwAAAAAA+BKhBwAAAAAA8CVCDwAAAAAA4EuEHgAAAAAAwJcIPQAAAAAAgC8RegAAAAAAAF8i9AAAAAAAAL5E6AEAAAAAAHyJ0AMAAAAAAPgSoQcAAAAAAPCl/wfH3d6x4Q+b0gAAAABJRU5ErkJggg==\"><br>"
      ],
      "text/plain": [
       "<yt.visualization.plot_window.ProjectionPlot at 0x14900bdd8>"
      ]
     },
     "execution_count": 71,
     "metadata": {},
     "output_type": "execute_result"
    }
   ],
   "source": [
    "ytPlot=yt.ProjectionPlot(ytData, \"x\", \"density\")\n",
    "ytPlot.zoom(20)"
   ]
  },
  {
   "cell_type": "code",
   "execution_count": 80,
   "metadata": {
    "collapsed": false
   },
   "outputs": [
    {
     "name": "stderr",
     "output_type": "stream",
     "text": [
      "yt : [INFO     ] 2017-03-26 20:18:37,347 Max Value is 3.70890e-14 at 0.4607892781496060 0.5162598639726660 0.4843152016401284\n",
      "/Users/Zephyr/Astro/yt/yt/data_objects/grid_patch.py:190: VisibleDeprecationWarning: using a non-integer number instead of an integer will result in an error in the future\n",
      "  startIndex[2]:endIndex[2]] = tofill\n"
     ]
    },
    {
     "data": {
      "text/html": [],
      "text/plain": [
       "<yt.visualization.profile_plotter.ProfilePlot at 0x1475c20b8>"
      ]
     },
     "metadata": {},
     "output_type": "display_data"
    }
   ],
   "source": [
    "# no fucking clue\n",
    "sphere = ytData.sphere(\"max\", (100., \"kpc\"))\n",
    "plot = yt.ProfilePlot(sphere, \"radius\", [\"velocity_x\"])\n",
    "plot.show()"
   ]
  },
  {
   "cell_type": "code",
   "execution_count": null,
   "metadata": {
    "collapsed": true
   },
   "outputs": [],
   "source": []
  }
 ],
 "metadata": {
  "anaconda-cloud": {},
  "kernelspec": {
   "display_name": "Python [default]",
   "language": "python",
   "name": "python3"
  },
  "language_info": {
   "codemirror_mode": {
    "name": "ipython",
    "version": 3
   },
   "file_extension": ".py",
   "mimetype": "text/x-python",
   "name": "python",
   "nbconvert_exporter": "python",
   "pygments_lexer": "ipython3",
   "version": "3.5.2"
  }
 },
 "nbformat": 4,
 "nbformat_minor": 2
}
